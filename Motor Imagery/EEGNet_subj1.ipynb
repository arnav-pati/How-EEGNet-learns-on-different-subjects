{
 "cells": [
  {
   "cell_type": "code",
   "execution_count": 1,
   "metadata": {},
   "outputs": [
    {
     "data": {
      "text/plain": [
       "'/home/deepak/learning_project/student'"
      ]
     },
     "execution_count": 1,
     "metadata": {},
     "output_type": "execute_result"
    }
   ],
   "source": [
    "%pwd"
   ]
  },
  {
   "cell_type": "code",
   "execution_count": 2,
   "metadata": {},
   "outputs": [
    {
     "name": "stdout",
     "output_type": "stream",
     "text": [
      "/home/deepak/learning_project/student\n"
     ]
    }
   ],
   "source": [
    "%cd /home/deepak/learning_project/student"
   ]
  },
  {
   "cell_type": "code",
   "execution_count": 3,
   "metadata": {},
   "outputs": [
    {
     "name": "stdout",
     "output_type": "stream",
     "text": [
      "Defaulting to user installation because normal site-packages is not writeable\n",
      "Requirement already satisfied: tensorboardX in /home/deepak/.local/lib/python3.8/site-packages (2.5.1)\n",
      "Requirement already satisfied: numpy in /home/deepak/.local/lib/python3.8/site-packages (from tensorboardX) (1.23.4)\n",
      "Requirement already satisfied: protobuf<=3.20.1,>=3.8.0 in /usr/local/lib/python3.8/dist-packages (from tensorboardX) (3.17.3)\n",
      "Requirement already satisfied: six>=1.9 in /usr/local/lib/python3.8/dist-packages (from protobuf<=3.20.1,>=3.8.0->tensorboardX) (1.15.0)\n"
     ]
    }
   ],
   "source": [
    "! pip install tensorboardX"
   ]
  },
  {
   "cell_type": "code",
   "execution_count": 4,
   "metadata": {},
   "outputs": [],
   "source": [
    "import torch\n",
    "from torch import nn, optim, autograd\n",
    "from torch.autograd import Variable\n",
    "import matplotlib.pyplot as plt\n",
    "from torch.nn import functional as F\n",
    "import numpy as np\n",
    "from torch.utils.data import Dataset, DataLoader\n",
    "from tensorboardX import SummaryWriter\n",
    "from tqdm import tqdm\n",
    "import os\n",
    "import os.path\n",
    "import errno"
   ]
  },
  {
   "cell_type": "code",
   "execution_count": 5,
   "metadata": {},
   "outputs": [
    {
     "name": "stderr",
     "output_type": "stream",
     "text": [
      "/home/deepak/.local/lib/python3.8/site-packages/torch/cuda/__init__.py:88: UserWarning: CUDA initialization: CUDA unknown error - this may be due to an incorrectly set up environment, e.g. changing env variable CUDA_VISIBLE_DEVICES after program start. Setting the available devices to be zero. (Triggered internally at ../c10/cuda/CUDAFunctions.cpp:109.)\n",
      "  return torch._C._cuda_getDeviceCount() > 0\n"
     ]
    },
    {
     "data": {
      "text/plain": [
       "False"
      ]
     },
     "execution_count": 5,
     "metadata": {},
     "output_type": "execute_result"
    }
   ],
   "source": [
    "torch.cuda.is_available()"
   ]
  },
  {
   "cell_type": "code",
   "execution_count": 6,
   "metadata": {},
   "outputs": [
    {
     "name": "stdout",
     "output_type": "stream",
     "text": [
      "cpu\n"
     ]
    }
   ],
   "source": [
    "DEVICE = \"cuda\" if torch.cuda.is_available() else \"cpu\"\n",
    "print(DEVICE)"
   ]
  },
  {
   "cell_type": "code",
   "execution_count": 7,
   "metadata": {},
   "outputs": [
    {
     "data": {
      "text/plain": [
       "<torch._C.Generator at 0x7f6704c8c170>"
      ]
     },
     "execution_count": 7,
     "metadata": {},
     "output_type": "execute_result"
    }
   ],
   "source": [
    "np.random.seed(42)\n",
    "torch.manual_seed(42)"
   ]
  },
  {
   "cell_type": "code",
   "execution_count": 8,
   "metadata": {},
   "outputs": [],
   "source": [
    "def seed_worker(worker_id):\n",
    "    worker_seed = torch.initial_seed() % 2**32\n",
    "    np.random.seed(worker_seed)"
   ]
  },
  {
   "cell_type": "markdown",
   "metadata": {},
   "source": [
    "Dataset"
   ]
  },
  {
   "cell_type": "code",
   "execution_count": 9,
   "metadata": {},
   "outputs": [],
   "source": [
    "class DataNShot():\n",
    "    def __init__(self, root, data_npy, train_subj, test_subj, batchsz, n_way, k_shot, k_query, eeg_shape, num_trials, batchst=1):\n",
    "        self.num_trials = num_trials\n",
    "        self.batchsz = {\"train\": batchsz, \"test\": batchst}\n",
    "        self.n_way = n_way\n",
    "        self.k_shot = k_shot\n",
    "        self.k_query = k_query\n",
    "        self.eeg_shape = eeg_shape\n",
    "        self.root = root\n",
    "        self.data_npy = data_npy\n",
    "        self.train_subj = train_subj\n",
    "        self.test_subj = test_subj\n",
    "        self.subj = {\"train\": self.train_subj, \"test\": self.test_subj}\n",
    "\n",
    "    def get_data(self, mode, subj, cls, trial):\n",
    "        return np.load(os.path.join(self.root, self.data_npy+'_'+'train', f\"s{subj}_c{cls}_t{trial}.npy\"))\n",
    "        # return raw - raw.mean(axis=0)\n",
    "\n",
    "    def get_batch(self, mode):\n",
    "        setsz = self.k_shot * self.n_way\n",
    "        querysz = self.k_query * self.n_way\n",
    "        num_subj = self.subj[mode]\n",
    "\n",
    "        support_x = np.zeros((self.batchsz[mode], setsz) + self.eeg_shape)\n",
    "        support_y = np.zeros((self.batchsz[mode], setsz), dtype=int)\n",
    "        query_x = np.zeros((self.batchsz[mode], querysz) + self.eeg_shape)\n",
    "        query_y = np.zeros((self.batchsz[mode], querysz), dtype=int)\n",
    "\n",
    "        selected_tasks = np.random.choice(num_subj, self.batchsz[mode], False)\n",
    "        for i, cur_task in enumerate(selected_tasks):\n",
    "            shuffle_idx = np.arange(self.n_way)\n",
    "            np.random.shuffle(shuffle_idx)\n",
    "            shuffle_idx_test = np.arange(self.n_way)\n",
    "            np.random.shuffle(shuffle_idx_test)\n",
    "\n",
    "            for j in range(self.n_way):\n",
    "                selected_data = np.random.choice(self.num_trials, self.k_shot + self.k_query, False)\n",
    "\n",
    "                for offset, eeg in enumerate(selected_data[:self.k_shot]):\n",
    "                    support_x[i, shuffle_idx[j] * self.k_shot + offset, ...] = self.get_data(mode, cur_task, j, eeg)\n",
    "                    support_y[i, shuffle_idx[j] * self.k_shot + offset] = j\n",
    "\n",
    "                for offset, eeg in enumerate(selected_data[self.k_shot:]):\n",
    "                    query_x[i, shuffle_idx_test[j] * self.k_query + offset, ...] = self.get_data(mode, cur_task, j, eeg)\n",
    "                    query_y[i, shuffle_idx_test[j] * self.k_query + offset] = j\n",
    "\n",
    "        return support_x, support_y, query_x, query_y"
   ]
  },
  {
   "cell_type": "code",
   "execution_count": 10,
   "metadata": {},
   "outputs": [],
   "source": [
    "class CustomDataset(Dataset):\n",
    "    def __init__(self, db, mode, k_shot, k_query) -> None:\n",
    "        super().__init__()\n",
    "        # self.data = data\n",
    "        self.db = db\n",
    "        self.mode = mode\n",
    "        self.shape = (len(db.subj[mode]), db.n_way, db.num_trials) + db.eeg_shape\n",
    "        self.n_way = self.shape[1]\n",
    "        self.k_shot = k_shot\n",
    "        self.k_query = k_query\n",
    "        self.out_shape = (self.n_way * self.k_shot,) + self.shape[-2:]\n",
    "        self.out_shape_query = (self.n_way * self.k_query,) + self.shape[-2:]\n",
    "        self.shuffle_idx = np.zeros(self.shape[:3], dtype=int)\n",
    "        for p in range(self.shape[0]):\n",
    "            for q in range(self.shape[1]):\n",
    "                idx_range = np.arange(self.shape[2])\n",
    "                np.random.shuffle(idx_range)\n",
    "                self.shuffle_idx[p, q, ...] = idx_range\n",
    "\n",
    "    def __len__(self):\n",
    "        return self.shape[0] * (self.shape[2] // (self.k_shot + self.k_query))\n",
    "\n",
    "    def __getitem__(self, idx):\n",
    "        idx2 = (self.k_shot + self.k_query) * (idx // self.shape[0])\n",
    "        idx0 = idx % self.shape[0]\n",
    "\n",
    "        support_x = np.zeros(self.out_shape)\n",
    "        support_y = np.zeros(self.out_shape[:1], dtype=int)\n",
    "        query_x = np.zeros(self.out_shape_query)\n",
    "        query_y = np.zeros(self.out_shape_query[:1], dtype=int)\n",
    "\n",
    "        for j in range(self.n_way):\n",
    "            # support_x[(j*self.k_shot):((j+1)*self.k_shot), ...] = self.data[idx0][j][self.shuffle_idx[idx0, j, idx2:idx2+self.k_shot]]\n",
    "            for v in range(self.k_shot):\n",
    "                support_x[(j*self.k_shot) + v, ...] = self.db.get_data(self.mode, self.db.subj[self.mode][idx0], j, self.shuffle_idx[idx0, j, idx2+v])\n",
    "            support_y[(j*self.k_shot):((j+1)*self.k_shot)] = j\n",
    "\n",
    "            # query_x[(j*self.k_query):((j+1)*self.k_query), ...] = self.data[idx0][j][self.shuffle_idx[idx0, j, idx2+self.k_shot:idx2+self.k_shot+self.k_query]]\n",
    "            for v in range(self.k_query):\n",
    "                query_x[(j*self.k_query) + v, ...] = self.db.get_data(self.mode, self.db.subj[self.mode][idx0], j, self.shuffle_idx[idx0, j, idx2+self.k_shot+v])\n",
    "            query_y[(j*self.k_query):((j+1)*self.k_query)] = j\n",
    "\n",
    "        return support_x, support_y, query_x, query_y"
   ]
  },
  {
   "cell_type": "code",
   "execution_count": 11,
   "metadata": {},
   "outputs": [],
   "source": [
    "class ZeroDataset(Dataset):\n",
    "    def __init__(self, db, mode, k_shot, k_query, subj) -> None:\n",
    "        super().__init__()\n",
    "        # self.data = data\n",
    "        self.db = db\n",
    "        self.mode = mode\n",
    "        self.subj = subj\n",
    "        self.shape = (1, db.n_way, db.num_trials) + db.eeg_shape\n",
    "        self.n_way = self.shape[1]\n",
    "        self.k_shot = k_shot\n",
    "        self.k_query = k_query\n",
    "        self.out_shape = (self.n_way * self.k_shot,) + self.shape[-2:]\n",
    "        self.out_shape_query = (self.n_way * self.k_query,) + self.shape[-2:]\n",
    "        self.shuffle_idx = np.zeros(self.shape[:3], dtype=int)\n",
    "        for p in range(self.shape[0]):\n",
    "            for q in range(self.shape[1]):\n",
    "                idx_range = np.arange(self.shape[2])\n",
    "                np.random.shuffle(idx_range)\n",
    "                self.shuffle_idx[p, q, ...] = idx_range\n",
    "\n",
    "    def __len__(self):\n",
    "        return self.shape[0] * (self.shape[2] // (self.k_shot + self.k_query))\n",
    "\n",
    "    def __getitem__(self, idx):\n",
    "        idx2 = (self.k_shot + self.k_query) * (idx // self.shape[0])\n",
    "        idx0 = idx % self.shape[0]\n",
    "\n",
    "        support_x = np.zeros(self.out_shape)\n",
    "        support_y = np.zeros(self.out_shape[:1], dtype=int)\n",
    "        query_x = np.zeros(self.out_shape_query)\n",
    "        query_y = np.zeros(self.out_shape_query[:1], dtype=int)\n",
    "\n",
    "        for j in range(self.n_way):\n",
    "            # support_x[(j*self.k_shot):((j+1)*self.k_shot), ...] = self.data[idx0][j][self.shuffle_idx[idx0, j, idx2:idx2+self.k_shot]]\n",
    "            for v in range(self.k_shot):\n",
    "                support_x[(j*self.k_shot) + v, ...] = self.db.get_data(self.mode, self.subj, j, self.shuffle_idx[idx0, j, idx2+v])\n",
    "            support_y[(j*self.k_shot):((j+1)*self.k_shot)] = j\n",
    "\n",
    "            # query_x[(j*self.k_query):((j+1)*self.k_query), ...] = self.data[idx0][j][self.shuffle_idx[idx0, j, idx2+self.k_shot:idx2+self.k_shot+self.k_query]]\n",
    "            for v in range(self.k_query):\n",
    "                query_x[(j*self.k_query) + v, ...] = self.db.get_data(self.mode, self.subj, j, self.shuffle_idx[idx0, j, idx2+self.k_shot+v])\n",
    "            query_y[(j*self.k_query):((j+1)*self.k_query)] = j\n",
    "\n",
    "        return support_x, support_y, query_x, query_y"
   ]
  },
  {
   "cell_type": "markdown",
   "metadata": {},
   "source": [
    "Reptile"
   ]
  },
  {
   "cell_type": "code",
   "execution_count": 12,
   "metadata": {},
   "outputs": [],
   "source": [
    "class Learner(nn.Module):\n",
    "    '''\n",
    "    It stores a specific nn.Module class\n",
    "    '''\n",
    "\n",
    "    def __init__(self, net_class, *args) -> None:\n",
    "        '''\n",
    "        net_class is a class, not an instance\n",
    "        args: the parameters for net_class\n",
    "        '''\n",
    "        super(Learner, self).__init__()\n",
    "        assert net_class.__class__ == type\n",
    "\n",
    "        self.net = net_class(*args).to(DEVICE)\n",
    "        self.net_pi = net_class(*args).to(DEVICE)\n",
    "        self.learner_lr = 0.1\n",
    "        self.optimizer = optim.SGD(self.net_pi.parameters(), self.learner_lr)\n",
    "\n",
    "    def parameters(self):\n",
    "        '''\n",
    "        ignore self.net_pi.parameters()\n",
    "        '''\n",
    "        return self.net.parameters()\n",
    "\n",
    "    def update_pi(self):\n",
    "        for m_from, m_to in zip(self.net.modules(), self.net_pi.modules()):\n",
    "            if isinstance(m_to, nn.Linear) or isinstance(m_to, nn.Conv2d) or isinstance(m_to, nn.BatchNorm2d):\n",
    "                m_to.weight.data = m_from.weight.data.clone()\n",
    "                if m_to.bias is not None:\n",
    "                    m_to.bias.data = m_from.bias.data.clone()\n",
    "\n",
    "    def forward(self, support_x, support_y, query_x, query_y, num_updates, testing=False):\n",
    "        self.update_pi()\n",
    "        if testing:\n",
    "            self.net_pi.freeze()\n",
    "        for i in range(num_updates):\n",
    "            loss, pred = self.net_pi(support_x, support_y)\n",
    "            self.optimizer.zero_grad()\n",
    "            loss.backward()\n",
    "            self.optimizer.step()\n",
    "        if testing:\n",
    "            self.net_pi.unfreeze()\n",
    "        loss, pred = self.net_pi(query_x, query_y)\n",
    "        indices = torch.argmax(pred, dim=1)\n",
    "        correct = torch.eq(indices, query_y).sum().item()\n",
    "        acc = correct / query_y.size(0)\n",
    "\n",
    "        grads_pi = autograd.grad(loss, self.net_pi.parameters(), create_graph=True)\n",
    "        return loss, grads_pi, acc\n",
    "\n",
    "    def net_forward(self, support_x, support_y):\n",
    "        loss, pred = self.net(support_x, support_y)\n",
    "        return loss, pred"
   ]
  },
  {
   "cell_type": "code",
   "execution_count": 13,
   "metadata": {},
   "outputs": [],
   "source": [
    "class MetaLearner(nn.Module):\n",
    "    def __init__(self, net_class, net_class_args, n_way, k_shot, meta_batchesz, beta, num_updates, num_updates_test) -> None:\n",
    "        super(MetaLearner, self).__init__()\n",
    "        self.n_way = n_way\n",
    "        self.k_shot = k_shot\n",
    "        self.meta_batchesz = meta_batchesz\n",
    "        self.beta = beta\n",
    "        self.num_updates = num_updates\n",
    "        self.num_updates_test = num_updates_test\n",
    "\n",
    "        self.learner = Learner(net_class, *net_class_args)\n",
    "        self.optimizer = optim.Adam(self.learner.parameters(), lr=beta)\n",
    "\n",
    "    def write_grads(self, dummy_loss, sum_grads_pi):\n",
    "        hooks = []\n",
    "        for i, v in enumerate(self.learner.parameters()):\n",
    "            def closure():\n",
    "                ii = i\n",
    "                return lambda grad : sum_grads_pi[ii]\n",
    "            # h = v.register_hook(closure())\n",
    "            hooks.append(v.register_hook(closure()))\n",
    "\n",
    "        self.optimizer.zero_grad()\n",
    "        dummy_loss.backward()\n",
    "        self.optimizer.step()\n",
    "\n",
    "        for h in hooks:\n",
    "            h.remove()\n",
    "\n",
    "    def forward(self, support_x, support_y, query_x, query_y):\n",
    "        sum_grads_pi = None\n",
    "        meta_batchesz = support_y.size(0)\n",
    "\n",
    "        accs = []\n",
    "        for i in range(meta_batchesz):\n",
    "            _, grad_pi, episode_acc = self.learner(support_x[i], support_y[i], query_x[i], query_y[i], self.num_updates)\n",
    "            accs.append(episode_acc)\n",
    "            if sum_grads_pi is None:\n",
    "                sum_grads_pi = grad_pi\n",
    "            else:\n",
    "                sum_grads_pi = [torch.add(p, q) for p, q in zip(sum_grads_pi, grad_pi)]\n",
    "        dummy_loss, _ = self.learner.net_forward(support_x[0], support_y[0])\n",
    "        self.write_grads(dummy_loss, sum_grads_pi)\n",
    "\n",
    "        return accs\n",
    "\n",
    "    def pred(self, support_x, support_y, query_x, query_y):\n",
    "        meta_batchesz = support_y.size(0)\n",
    "        accs = []\n",
    "        for i in range(meta_batchesz):\n",
    "            _, _, episode_acc = self.learner(support_x[i], support_y[i], query_x[i], query_y[i], self.num_updates_test, testing=True)\n",
    "            accs.append(episode_acc)\n",
    "        return np.array(accs).mean()"
   ]
  },
  {
   "cell_type": "markdown",
   "metadata": {},
   "source": [
    "Models"
   ]
  },
  {
   "cell_type": "code",
   "execution_count": 14,
   "metadata": {},
   "outputs": [],
   "source": [
    "class EEGNet(nn.Module):\n",
    "    def __init__(self, nb_classes, Chans = 22, Samples = 1001,\n",
    "                 dropoutRate = 0.5, kernLength = 64, F1 = 8,\n",
    "                 D = 2, F2 = 16, norm_rate = 0.25) -> None:\n",
    "        super().__init__()\n",
    "        self.device = DEVICE\n",
    "\n",
    "        self.block1 = nn.Sequential(\n",
    "            nn.Conv2d(1, F1, (1, kernLength), padding='same', bias=False),\n",
    "            nn.BatchNorm2d(F1),\n",
    "            nn.Conv2d(F1, F1 * D, (Chans, 1), groups=F1, bias=False),\n",
    "            nn.BatchNorm2d(F1 * D),\n",
    "            nn.ELU(),\n",
    "            nn.AvgPool2d((1, 4)),\n",
    "            nn.Dropout(dropoutRate)\n",
    "        ).to(DEVICE)\n",
    "\n",
    "        self.block2 = nn.Sequential(\n",
    "            nn.Conv2d(F2, F2, (1, 16), padding='same', bias=False),\n",
    "            nn.Conv2d(F2, F2, 1, padding=0, bias=False),\n",
    "            nn.BatchNorm2d(F2),\n",
    "            nn.ELU(),\n",
    "            nn.AvgPool2d((1, 8)),\n",
    "            nn.Dropout(dropoutRate)\n",
    "        ).to(DEVICE)\n",
    "\n",
    "        self.block_weights = ['block1.0.weight', 'block1.1.weight', 'block1.1.bias', 'block1.2.weight', 'block1.3.weight', 'block1.3.bias', 'block2.0.weight', 'block2.1.weight', 'block2.2.weight', 'block2.2.bias']\n",
    "\n",
    "        self.classifier_input = 16 * ((Samples // 4) // 8)\n",
    "        self.classifier_hidden = int((self.classifier_input * nb_classes) ** 0.5)\n",
    "        self.classifier = nn.Sequential(\n",
    "            nn.Flatten(),\n",
    "            nn.Linear(self.classifier_input, self.classifier_hidden),\n",
    "            nn.Linear(self.classifier_hidden, nb_classes)\n",
    "        ).to(DEVICE)\n",
    "\n",
    "        self.criterion = nn.CrossEntropyLoss(reduction='mean')\n",
    "\n",
    "    def forward(self, x, target=None):\n",
    "        x = self.block1(torch.unsqueeze(x, 1))\n",
    "        x = self.block2(x)\n",
    "        pred = self.classifier(x)\n",
    "\n",
    "        loss = self.criterion(pred, target)\n",
    "        return loss, pred\n",
    "\n",
    "    def freeze(self):\n",
    "        for name, param in self.named_parameters():\n",
    "            if name in self.block_weights:\n",
    "                param.requires_grad = False\n",
    "\n",
    "    def unfreeze(self):\n",
    "        for name, param in self.named_parameters():\n",
    "            if name in self.block_weights:\n",
    "                param.requires_grad = True"
   ]
  },
  {
   "cell_type": "code",
   "execution_count": null,
   "metadata": {},
   "outputs": [],
   "source": []
  },
  {
   "cell_type": "markdown",
   "metadata": {},
   "source": [
    "Train"
   ]
  },
  {
   "cell_type": "code",
   "execution_count": 15,
   "metadata": {},
   "outputs": [],
   "source": [
    "def meta_train(db, meta, iterations):\n",
    "    tb = SummaryWriter('runs')\n",
    "    for episode_num in range(iterations):\n",
    "        support_x, support_y, query_x, query_y = db.get_batch('train')\n",
    "        support_x = Variable( torch.from_numpy(support_x).float()).to(DEVICE)\n",
    "        query_x = Variable( torch.from_numpy(query_x).float()).to(DEVICE)\n",
    "        support_y = Variable(torch.from_numpy(support_y).long()).to(DEVICE)\n",
    "        query_y = Variable(torch.from_numpy(query_y).long()).to(DEVICE)\n",
    "\n",
    "        accs = meta(support_x, support_y, query_x, query_y)\n",
    "        train_acc = 100 * np.array(accs).mean()\n",
    "\n",
    "        if episode_num % 50 == 0:\n",
    "            test_accs = []\n",
    "            for i in range(min(episode_num // 5000 + 3, 10)):\n",
    "                support_x, support_y, query_x, query_y = db.get_batch('test')\n",
    "                support_x = Variable( torch.from_numpy(support_x).float()).to(DEVICE)\n",
    "                query_x = Variable( torch.from_numpy(query_x).float()).to(DEVICE)\n",
    "                support_y = Variable(torch.from_numpy(support_y).long()).to(DEVICE)\n",
    "                query_y = Variable(torch.from_numpy(query_y).long()).to(DEVICE)\n",
    "\n",
    "                test_acc = meta.pred(support_x, support_y, query_x, query_y)\n",
    "                test_accs.append(test_acc)\n",
    "\n",
    "            test_acc = 100 * np.array(test_accs).mean()\n",
    "            print('episode:', episode_num, '\\tfinetune acc:%.6f' % train_acc, '\\t\\ttest acc:%.6f' % test_acc)\n",
    "            tb.add_scalar('test-acc', test_acc)\n",
    "            tb.add_scalar('finetune-acc', train_acc)"
   ]
  },
  {
   "cell_type": "code",
   "execution_count": 16,
   "metadata": {},
   "outputs": [],
   "source": [
    "def train(net, train_loader, epochs):\n",
    "    optimizer = optim.Adam(net.parameters(), lr=0.001)\n",
    "    train_log = []\n",
    "    val_log = []\n",
    "    for epoch in range(epochs):\n",
    "        accs = []\n",
    "        train_loss = []\n",
    "        val_loss = []\n",
    "        for support_x, support_y, query_x, query_y in tqdm(train_loader):\n",
    "            support_x = Variable(support_x[0].float()).to(DEVICE)\n",
    "            query_x = Variable(query_x[0].float()).to(DEVICE)\n",
    "            support_y = Variable(support_y[0].long()).to(DEVICE)\n",
    "            query_y = Variable(query_y[0].long()).to(DEVICE)\n",
    "\n",
    "            net.train()\n",
    "            loss, pred = net(support_x, support_y)\n",
    "            optimizer.zero_grad()\n",
    "            loss.backward()\n",
    "            optimizer.step()\n",
    "            train_loss.append(loss.item())\n",
    "\n",
    "            net.eval()\n",
    "            loss, pred = net(query_x, query_y)\n",
    "            val_loss.append(loss.item())\n",
    "            indices = torch.argmax(pred, dim=1)\n",
    "            correct = torch.eq(indices, query_y).sum().item()\n",
    "            acc = correct / query_y.size(0)\n",
    "            accs.append(acc)\n",
    "        train_loss = np.array(train_loss).mean()\n",
    "        train_log.append(train_loss)\n",
    "        val_loss = np.array(val_loss).mean()\n",
    "        val_log.append(val_loss)\n",
    "        accuracy = 100 * np.array(accs).mean()\n",
    "        print(f'Epoch {epoch+1}:', '\\tvalidation acc: %.6f' % accuracy, '\\tvalidation loss: %.6f' % val_loss, '\\ttrain loss: %.6f' % train_loss)\n",
    "    plt.plot(train_log)\n",
    "    plt.plot(val_log)\n",
    "    plt.show()"
   ]
  },
  {
   "cell_type": "markdown",
   "metadata": {},
   "source": [
    "Evaluate"
   ]
  },
  {
   "cell_type": "code",
   "execution_count": 17,
   "metadata": {},
   "outputs": [],
   "source": [
    "def evaluate(learner, db, min_updates_test=5, max_updates_test=150):\n",
    "    test_loader = DataLoader(\n",
    "        dataset = CustomDataset(db, \"test\", k_shot=0, k_query=4),\n",
    "        batch_size = 1\n",
    "    )\n",
    "    accs = []\n",
    "    for support_x, support_y, query_x, query_y in test_loader:\n",
    "        support_x = Variable(support_x[0].float()).to(DEVICE)\n",
    "        query_x = Variable(query_x[0].float()).to(DEVICE)\n",
    "        support_y = Variable(support_y[0].long()).to(DEVICE)\n",
    "        query_y = Variable(query_y[0].long()).to(DEVICE)\n",
    "        _, _, episode_acc = learner(support_x, support_y, query_x, query_y, 0, testing=True)\n",
    "        accs.append(episode_acc)\n",
    "    accs = 100 * np.array(accs)\n",
    "\n",
    "    results = [{\"mean\":accs.mean(), \"std\":accs.std(), \"num_upd\":0}]\n",
    "    print(f\"{0}-shot accuracy: \\tmean: {results[0]['mean']:.6f}{'%'}\\tstd: {results[0]['std']:.6f}{'%'}\")\n",
    "\n",
    "    for K in range(1, 11):\n",
    "        dct = {\"mean\":0, \"std\":0, \"num_upd\":0}\n",
    "        for num_updates_test in tqdm(range(min_updates_test, max_updates_test, 2)):\n",
    "            test_loader = DataLoader(\n",
    "                dataset = CustomDataset(db, \"test\", k_shot=K, k_query=4),\n",
    "                batch_size = 1\n",
    "            )\n",
    "            accs = []\n",
    "            for support_x, support_y, query_x, query_y in test_loader:\n",
    "                support_x = Variable(support_x[0].float()).to(DEVICE)\n",
    "                query_x = Variable(query_x[0].float()).to(DEVICE)\n",
    "                support_y = Variable(support_y[0].long()).to(DEVICE)\n",
    "                query_y = Variable(query_y[0].long()).to(DEVICE)\n",
    "                _, _, episode_acc = learner(support_x, support_y, query_x, query_y, num_updates_test, testing=True)\n",
    "                accs.append(episode_acc)\n",
    "            accs = 100 * np.array(accs)\n",
    "            if accs.mean() > dct[\"mean\"]:\n",
    "                dct[\"mean\"] = accs.mean()\n",
    "                dct[\"std\"] = accs.std()\n",
    "                dct[\"num_upd\"] = num_updates_test\n",
    "\n",
    "        results.append(dct)\n",
    "        print(f\"{K}-shot accuracy: \\tmean: {dct['mean']:.6f}{'%'}\\tstd: {dct['std']:.6f}{'%'}\\tafter {dct['num_upd']} updates\")\n",
    "\n",
    "    return results"
   ]
  },
  {
   "cell_type": "code",
   "execution_count": 18,
   "metadata": {},
   "outputs": [],
   "source": [
    "def evaluate0(learner, db):\n",
    "    for subj in db.subj['train']:\n",
    "        test_loader = DataLoader(\n",
    "            dataset = ZeroDataset(db, \"train\", k_shot=0, k_query=4, subj=subj),\n",
    "            batch_size = 1\n",
    "        )\n",
    "        accs = []\n",
    "        for support_x, support_y, query_x, query_y in test_loader:\n",
    "            support_x = Variable(support_x[0].float()).to(DEVICE)\n",
    "            query_x = Variable(query_x[0].float()).to(DEVICE)\n",
    "            support_y = Variable(support_y[0].long()).to(DEVICE)\n",
    "            query_y = Variable(query_y[0].long()).to(DEVICE)\n",
    "            _, _, episode_acc = learner(support_x, support_y, query_x, query_y, 0, testing=True)\n",
    "            accs.append(episode_acc)\n",
    "        accs = 100 * np.array(accs)\n",
    "\n",
    "        results = [{\"mean\":accs.mean(), \"std\":accs.std(), \"num_upd\":0}]\n",
    "        print(f\"{0}-shot accuracy on subject {subj}: \\tmean: {results[0]['mean']:.6f}{'%'}\\tstd: {results[0]['std']:.6f}{'%'}\")"
   ]
  },
  {
   "cell_type": "markdown",
   "metadata": {},
   "source": [
    "Helper functions"
   ]
  },
  {
   "cell_type": "code",
   "execution_count": 19,
   "metadata": {},
   "outputs": [],
   "source": [
    "def bciiv2a(model, iterations=30000, epochs=100, Reptile=True):\n",
    "    root = ''\n",
    "    data_npy = 'bciiv2a'\n",
    "    # dataset = BNCI2014001()\n",
    "    meta_batchsz = 5\n",
    "    n_way = 4\n",
    "    k_shot = 4\n",
    "    k_query = k_shot\n",
    "\n",
    "    meta_lr = 1e-3\n",
    "    num_updates = 2\n",
    "    num_updates_test = 10\n",
    "\n",
    "    # fmin, fmax = 4, 32\n",
    "    # raw = dataset.get_data(subjects=[1])[1]['session_T']['run_1']\n",
    "    # dataset_channels = raw.pick_types(eeg=True).ch_names\n",
    "    # sfreq = 250.\n",
    "    # prgm_MI_classes = MotorImagery(n_classes=4, channels=dataset_channels, resample=sfreq, fmin=fmin, fmax=fmax)\n",
    "    \n",
    "    i = 1\n",
    "    train_subj = list(range(1, i)) + list(range(i+1, 10))\n",
    "    test_subj = [i]\n",
    "\n",
    "    db = DataNShot(root, data_npy, train_subj, test_subj, meta_batchsz, n_way, k_shot, k_query, (22, 1001), 144)\n",
    "\n",
    "    if Reptile:\n",
    "        meta = MetaLearner(model, (4, 22, 1001), n_way=n_way, k_shot=k_shot, meta_batchesz=meta_batchsz, beta=meta_lr, num_updates=num_updates, num_updates_test=num_updates_test).to(DEVICE)\n",
    "        meta_train(db, meta, iterations)\n",
    "        return meta.learner, db\n",
    "    else:\n",
    "        net = model(4, 22, 1001).to(DEVICE)\n",
    "\n",
    "        g = torch.Generator()\n",
    "        g.manual_seed(42)\n",
    "        train_loader = DataLoader(\n",
    "            dataset = CustomDataset(db, \"train\", k_shot=k_shot, k_query=1),\n",
    "            batch_size = 1,\n",
    "            shuffle = True,\n",
    "            worker_init_fn=seed_worker,\n",
    "            generator=g\n",
    "        )\n",
    "        train(net, train_loader, epochs)\n",
    "        net_trained = Learner(model, 4, 22, 1001)\n",
    "        net_trained.net = net\n",
    "        return net_trained, db"
   ]
  },
  {
   "cell_type": "markdown",
   "metadata": {},
   "source": [
    "Results"
   ]
  },
  {
   "cell_type": "code",
   "execution_count": 20,
   "metadata": {},
   "outputs": [
    {
     "name": "stderr",
     "output_type": "stream",
     "text": [
      "  0%|          | 0/224 [00:00<?, ?it/s]/home/deepak/.local/lib/python3.8/site-packages/torch/nn/modules/conv.py:459: UserWarning: Using padding='same' with even kernel lengths and odd dilation may require a zero-padded copy of the input be created (Triggered internally at ../aten/src/ATen/native/Convolution.cpp:895.)\n",
      "  return F.conv2d(input, weight, bias, self.stride,\n",
      "100%|██████████| 224/224 [00:06<00:00, 34.48it/s]\n"
     ]
    },
    {
     "name": "stdout",
     "output_type": "stream",
     "text": [
      "Epoch 1: \tvalidation acc: 31.361607 \tvalidation loss: 1.445162 \ttrain loss: 1.324121\n"
     ]
    },
    {
     "name": "stderr",
     "output_type": "stream",
     "text": [
      "100%|██████████| 224/224 [00:06<00:00, 32.71it/s]\n"
     ]
    },
    {
     "name": "stdout",
     "output_type": "stream",
     "text": [
      "Epoch 2: \tvalidation acc: 36.718750 \tvalidation loss: 1.510015 \ttrain loss: 1.243734\n"
     ]
    },
    {
     "name": "stderr",
     "output_type": "stream",
     "text": [
      "100%|██████████| 224/224 [00:06<00:00, 35.18it/s]\n"
     ]
    },
    {
     "name": "stdout",
     "output_type": "stream",
     "text": [
      "Epoch 3: \tvalidation acc: 39.620536 \tvalidation loss: 1.473118 \ttrain loss: 1.195815\n"
     ]
    },
    {
     "name": "stderr",
     "output_type": "stream",
     "text": [
      "100%|██████████| 224/224 [00:06<00:00, 34.61it/s]\n"
     ]
    },
    {
     "name": "stdout",
     "output_type": "stream",
     "text": [
      "Epoch 4: \tvalidation acc: 42.410714 \tvalidation loss: 1.447338 \ttrain loss: 1.173877\n"
     ]
    },
    {
     "name": "stderr",
     "output_type": "stream",
     "text": [
      "100%|██████████| 224/224 [00:06<00:00, 36.04it/s]\n"
     ]
    },
    {
     "name": "stdout",
     "output_type": "stream",
     "text": [
      "Epoch 5: \tvalidation acc: 39.843750 \tvalidation loss: 1.482064 \ttrain loss: 1.151945\n"
     ]
    },
    {
     "name": "stderr",
     "output_type": "stream",
     "text": [
      "100%|██████████| 224/224 [00:06<00:00, 34.83it/s]\n"
     ]
    },
    {
     "name": "stdout",
     "output_type": "stream",
     "text": [
      "Epoch 6: \tvalidation acc: 43.638393 \tvalidation loss: 1.422194 \ttrain loss: 1.130360\n"
     ]
    },
    {
     "name": "stderr",
     "output_type": "stream",
     "text": [
      "100%|██████████| 224/224 [00:06<00:00, 34.96it/s]\n"
     ]
    },
    {
     "name": "stdout",
     "output_type": "stream",
     "text": [
      "Epoch 7: \tvalidation acc: 46.093750 \tvalidation loss: 1.423241 \ttrain loss: 1.105463\n"
     ]
    },
    {
     "name": "stderr",
     "output_type": "stream",
     "text": [
      "100%|██████████| 224/224 [00:06<00:00, 35.30it/s]\n"
     ]
    },
    {
     "name": "stdout",
     "output_type": "stream",
     "text": [
      "Epoch 8: \tvalidation acc: 45.089286 \tvalidation loss: 1.418021 \ttrain loss: 1.084467\n"
     ]
    },
    {
     "name": "stderr",
     "output_type": "stream",
     "text": [
      "100%|██████████| 224/224 [00:06<00:00, 34.78it/s]\n"
     ]
    },
    {
     "name": "stdout",
     "output_type": "stream",
     "text": [
      "Epoch 9: \tvalidation acc: 46.651786 \tvalidation loss: 1.364698 \ttrain loss: 1.072641\n"
     ]
    },
    {
     "name": "stderr",
     "output_type": "stream",
     "text": [
      "100%|██████████| 224/224 [00:09<00:00, 24.64it/s]\n"
     ]
    },
    {
     "name": "stdout",
     "output_type": "stream",
     "text": [
      "Epoch 10: \tvalidation acc: 46.875000 \tvalidation loss: 1.429583 \ttrain loss: 1.059111\n"
     ]
    },
    {
     "name": "stderr",
     "output_type": "stream",
     "text": [
      "100%|██████████| 224/224 [00:10<00:00, 21.07it/s]\n"
     ]
    },
    {
     "name": "stdout",
     "output_type": "stream",
     "text": [
      "Epoch 11: \tvalidation acc: 46.986607 \tvalidation loss: 1.427840 \ttrain loss: 1.034897\n"
     ]
    },
    {
     "name": "stderr",
     "output_type": "stream",
     "text": [
      "100%|██████████| 224/224 [00:10<00:00, 20.74it/s]\n"
     ]
    },
    {
     "name": "stdout",
     "output_type": "stream",
     "text": [
      "Epoch 12: \tvalidation acc: 46.875000 \tvalidation loss: 1.438454 \ttrain loss: 1.033305\n"
     ]
    },
    {
     "name": "stderr",
     "output_type": "stream",
     "text": [
      "100%|██████████| 224/224 [00:10<00:00, 20.91it/s]\n"
     ]
    },
    {
     "name": "stdout",
     "output_type": "stream",
     "text": [
      "Epoch 13: \tvalidation acc: 49.107143 \tvalidation loss: 1.393277 \ttrain loss: 1.013397\n"
     ]
    },
    {
     "name": "stderr",
     "output_type": "stream",
     "text": [
      "100%|██████████| 224/224 [00:09<00:00, 24.72it/s]\n"
     ]
    },
    {
     "name": "stdout",
     "output_type": "stream",
     "text": [
      "Epoch 14: \tvalidation acc: 50.111607 \tvalidation loss: 1.415109 \ttrain loss: 1.017939\n"
     ]
    },
    {
     "name": "stderr",
     "output_type": "stream",
     "text": [
      "100%|██████████| 224/224 [00:06<00:00, 32.28it/s]\n"
     ]
    },
    {
     "name": "stdout",
     "output_type": "stream",
     "text": [
      "Epoch 15: \tvalidation acc: 47.321429 \tvalidation loss: 1.422517 \ttrain loss: 1.008723\n"
     ]
    },
    {
     "name": "stderr",
     "output_type": "stream",
     "text": [
      "100%|██████████| 224/224 [00:06<00:00, 34.76it/s]\n"
     ]
    },
    {
     "name": "stdout",
     "output_type": "stream",
     "text": [
      "Epoch 16: \tvalidation acc: 47.991071 \tvalidation loss: 1.433674 \ttrain loss: 0.985367\n"
     ]
    },
    {
     "name": "stderr",
     "output_type": "stream",
     "text": [
      "100%|██████████| 224/224 [00:06<00:00, 35.21it/s]\n"
     ]
    },
    {
     "name": "stdout",
     "output_type": "stream",
     "text": [
      "Epoch 17: \tvalidation acc: 47.879464 \tvalidation loss: 1.364570 \ttrain loss: 1.002001\n"
     ]
    },
    {
     "name": "stderr",
     "output_type": "stream",
     "text": [
      "100%|██████████| 224/224 [00:06<00:00, 35.09it/s]\n"
     ]
    },
    {
     "name": "stdout",
     "output_type": "stream",
     "text": [
      "Epoch 18: \tvalidation acc: 46.986607 \tvalidation loss: 1.460430 \ttrain loss: 0.986638\n"
     ]
    },
    {
     "name": "stderr",
     "output_type": "stream",
     "text": [
      "100%|██████████| 224/224 [00:06<00:00, 35.65it/s]\n"
     ]
    },
    {
     "name": "stdout",
     "output_type": "stream",
     "text": [
      "Epoch 19: \tvalidation acc: 48.214286 \tvalidation loss: 1.472376 \ttrain loss: 0.972459\n"
     ]
    },
    {
     "name": "stderr",
     "output_type": "stream",
     "text": [
      "100%|██████████| 224/224 [00:06<00:00, 35.50it/s]\n"
     ]
    },
    {
     "name": "stdout",
     "output_type": "stream",
     "text": [
      "Epoch 20: \tvalidation acc: 48.995536 \tvalidation loss: 1.455708 \ttrain loss: 0.969186\n"
     ]
    },
    {
     "name": "stderr",
     "output_type": "stream",
     "text": [
      "100%|██████████| 224/224 [00:06<00:00, 36.36it/s]\n"
     ]
    },
    {
     "name": "stdout",
     "output_type": "stream",
     "text": [
      "Epoch 21: \tvalidation acc: 50.223214 \tvalidation loss: 1.419258 \ttrain loss: 0.972481\n"
     ]
    },
    {
     "name": "stderr",
     "output_type": "stream",
     "text": [
      "100%|██████████| 224/224 [00:06<00:00, 36.04it/s]\n"
     ]
    },
    {
     "name": "stdout",
     "output_type": "stream",
     "text": [
      "Epoch 22: \tvalidation acc: 48.772321 \tvalidation loss: 1.441947 \ttrain loss: 0.960537\n"
     ]
    },
    {
     "name": "stderr",
     "output_type": "stream",
     "text": [
      "100%|██████████| 224/224 [00:06<00:00, 36.00it/s]\n"
     ]
    },
    {
     "name": "stdout",
     "output_type": "stream",
     "text": [
      "Epoch 23: \tvalidation acc: 49.888393 \tvalidation loss: 1.427149 \ttrain loss: 0.957497\n"
     ]
    },
    {
     "name": "stderr",
     "output_type": "stream",
     "text": [
      "100%|██████████| 224/224 [00:06<00:00, 35.55it/s]\n"
     ]
    },
    {
     "name": "stdout",
     "output_type": "stream",
     "text": [
      "Epoch 24: \tvalidation acc: 49.330357 \tvalidation loss: 1.411207 \ttrain loss: 0.952882\n"
     ]
    },
    {
     "name": "stderr",
     "output_type": "stream",
     "text": [
      "100%|██████████| 224/224 [00:06<00:00, 36.18it/s]\n"
     ]
    },
    {
     "name": "stdout",
     "output_type": "stream",
     "text": [
      "Epoch 25: \tvalidation acc: 48.995536 \tvalidation loss: 1.460620 \ttrain loss: 0.934741\n"
     ]
    },
    {
     "name": "stderr",
     "output_type": "stream",
     "text": [
      "100%|██████████| 224/224 [00:06<00:00, 34.98it/s]\n"
     ]
    },
    {
     "name": "stdout",
     "output_type": "stream",
     "text": [
      "Epoch 26: \tvalidation acc: 50.334821 \tvalidation loss: 1.459701 \ttrain loss: 0.927482\n"
     ]
    },
    {
     "name": "stderr",
     "output_type": "stream",
     "text": [
      "100%|██████████| 224/224 [00:06<00:00, 35.18it/s]\n"
     ]
    },
    {
     "name": "stdout",
     "output_type": "stream",
     "text": [
      "Epoch 27: \tvalidation acc: 49.553571 \tvalidation loss: 1.412975 \ttrain loss: 0.924820\n"
     ]
    },
    {
     "name": "stderr",
     "output_type": "stream",
     "text": [
      "100%|██████████| 224/224 [00:06<00:00, 36.20it/s]\n"
     ]
    },
    {
     "name": "stdout",
     "output_type": "stream",
     "text": [
      "Epoch 28: \tvalidation acc: 49.218750 \tvalidation loss: 1.451184 \ttrain loss: 0.922705\n"
     ]
    },
    {
     "name": "stderr",
     "output_type": "stream",
     "text": [
      "100%|██████████| 224/224 [00:06<00:00, 35.25it/s]\n"
     ]
    },
    {
     "name": "stdout",
     "output_type": "stream",
     "text": [
      "Epoch 29: \tvalidation acc: 50.111607 \tvalidation loss: 1.437754 \ttrain loss: 0.926365\n"
     ]
    },
    {
     "name": "stderr",
     "output_type": "stream",
     "text": [
      "100%|██████████| 224/224 [00:06<00:00, 35.21it/s]\n"
     ]
    },
    {
     "name": "stdout",
     "output_type": "stream",
     "text": [
      "Epoch 30: \tvalidation acc: 50.446429 \tvalidation loss: 1.398488 \ttrain loss: 0.919037\n"
     ]
    },
    {
     "name": "stderr",
     "output_type": "stream",
     "text": [
      "100%|██████████| 224/224 [00:06<00:00, 35.66it/s]\n"
     ]
    },
    {
     "name": "stdout",
     "output_type": "stream",
     "text": [
      "Epoch 31: \tvalidation acc: 50.558036 \tvalidation loss: 1.452030 \ttrain loss: 0.908887\n"
     ]
    },
    {
     "name": "stderr",
     "output_type": "stream",
     "text": [
      "100%|██████████| 224/224 [00:06<00:00, 35.56it/s]\n"
     ]
    },
    {
     "name": "stdout",
     "output_type": "stream",
     "text": [
      "Epoch 32: \tvalidation acc: 50.111607 \tvalidation loss: 1.463083 \ttrain loss: 0.893743\n"
     ]
    },
    {
     "name": "stderr",
     "output_type": "stream",
     "text": [
      "100%|██████████| 224/224 [00:06<00:00, 34.89it/s]\n"
     ]
    },
    {
     "name": "stdout",
     "output_type": "stream",
     "text": [
      "Epoch 33: \tvalidation acc: 51.004464 \tvalidation loss: 1.410138 \ttrain loss: 0.913540\n"
     ]
    },
    {
     "name": "stderr",
     "output_type": "stream",
     "text": [
      "100%|██████████| 224/224 [00:06<00:00, 35.67it/s]\n"
     ]
    },
    {
     "name": "stdout",
     "output_type": "stream",
     "text": [
      "Epoch 34: \tvalidation acc: 51.116071 \tvalidation loss: 1.459836 \ttrain loss: 0.913259\n"
     ]
    },
    {
     "name": "stderr",
     "output_type": "stream",
     "text": [
      "100%|██████████| 224/224 [00:06<00:00, 36.23it/s]\n"
     ]
    },
    {
     "name": "stdout",
     "output_type": "stream",
     "text": [
      "Epoch 35: \tvalidation acc: 50.781250 \tvalidation loss: 1.470265 \ttrain loss: 0.905666\n"
     ]
    },
    {
     "name": "stderr",
     "output_type": "stream",
     "text": [
      "100%|██████████| 224/224 [00:06<00:00, 37.28it/s]\n"
     ]
    },
    {
     "name": "stdout",
     "output_type": "stream",
     "text": [
      "Epoch 36: \tvalidation acc: 50.000000 \tvalidation loss: 1.466918 \ttrain loss: 0.905153\n"
     ]
    },
    {
     "name": "stderr",
     "output_type": "stream",
     "text": [
      "100%|██████████| 224/224 [00:06<00:00, 36.32it/s]\n"
     ]
    },
    {
     "name": "stdout",
     "output_type": "stream",
     "text": [
      "Epoch 37: \tvalidation acc: 50.669643 \tvalidation loss: 1.429867 \ttrain loss: 0.885547\n"
     ]
    },
    {
     "name": "stderr",
     "output_type": "stream",
     "text": [
      "100%|██████████| 224/224 [00:06<00:00, 36.59it/s]\n"
     ]
    },
    {
     "name": "stdout",
     "output_type": "stream",
     "text": [
      "Epoch 38: \tvalidation acc: 51.227679 \tvalidation loss: 1.468752 \ttrain loss: 0.910102\n"
     ]
    },
    {
     "name": "stderr",
     "output_type": "stream",
     "text": [
      "100%|██████████| 224/224 [00:06<00:00, 37.19it/s]\n"
     ]
    },
    {
     "name": "stdout",
     "output_type": "stream",
     "text": [
      "Epoch 39: \tvalidation acc: 50.223214 \tvalidation loss: 1.435399 \ttrain loss: 0.885019\n"
     ]
    },
    {
     "name": "stderr",
     "output_type": "stream",
     "text": [
      "100%|██████████| 224/224 [00:06<00:00, 37.14it/s]\n"
     ]
    },
    {
     "name": "stdout",
     "output_type": "stream",
     "text": [
      "Epoch 40: \tvalidation acc: 52.455357 \tvalidation loss: 1.418295 \ttrain loss: 0.894931\n"
     ]
    },
    {
     "name": "stderr",
     "output_type": "stream",
     "text": [
      "100%|██████████| 224/224 [00:06<00:00, 36.36it/s]\n"
     ]
    },
    {
     "name": "stdout",
     "output_type": "stream",
     "text": [
      "Epoch 41: \tvalidation acc: 51.897321 \tvalidation loss: 1.371413 \ttrain loss: 0.893543\n"
     ]
    },
    {
     "name": "stderr",
     "output_type": "stream",
     "text": [
      "100%|██████████| 224/224 [00:06<00:00, 35.78it/s]\n"
     ]
    },
    {
     "name": "stdout",
     "output_type": "stream",
     "text": [
      "Epoch 42: \tvalidation acc: 52.790179 \tvalidation loss: 1.443166 \ttrain loss: 0.878307\n"
     ]
    },
    {
     "name": "stderr",
     "output_type": "stream",
     "text": [
      "100%|██████████| 224/224 [00:06<00:00, 35.45it/s]\n"
     ]
    },
    {
     "name": "stdout",
     "output_type": "stream",
     "text": [
      "Epoch 43: \tvalidation acc: 50.669643 \tvalidation loss: 1.438298 \ttrain loss: 0.888312\n"
     ]
    },
    {
     "name": "stderr",
     "output_type": "stream",
     "text": [
      "100%|██████████| 224/224 [00:06<00:00, 35.69it/s]\n"
     ]
    },
    {
     "name": "stdout",
     "output_type": "stream",
     "text": [
      "Epoch 44: \tvalidation acc: 50.000000 \tvalidation loss: 1.431482 \ttrain loss: 0.873150\n"
     ]
    },
    {
     "name": "stderr",
     "output_type": "stream",
     "text": [
      "100%|██████████| 224/224 [00:06<00:00, 35.78it/s]\n"
     ]
    },
    {
     "name": "stdout",
     "output_type": "stream",
     "text": [
      "Epoch 45: \tvalidation acc: 51.562500 \tvalidation loss: 1.431815 \ttrain loss: 0.883497\n"
     ]
    },
    {
     "name": "stderr",
     "output_type": "stream",
     "text": [
      "100%|██████████| 224/224 [00:06<00:00, 35.70it/s]\n"
     ]
    },
    {
     "name": "stdout",
     "output_type": "stream",
     "text": [
      "Epoch 46: \tvalidation acc: 50.781250 \tvalidation loss: 1.471541 \ttrain loss: 0.876538\n"
     ]
    },
    {
     "name": "stderr",
     "output_type": "stream",
     "text": [
      "100%|██████████| 224/224 [00:06<00:00, 35.20it/s]\n"
     ]
    },
    {
     "name": "stdout",
     "output_type": "stream",
     "text": [
      "Epoch 47: \tvalidation acc: 50.446429 \tvalidation loss: 1.452757 \ttrain loss: 0.864705\n"
     ]
    },
    {
     "name": "stderr",
     "output_type": "stream",
     "text": [
      "100%|██████████| 224/224 [00:06<00:00, 35.04it/s]\n"
     ]
    },
    {
     "name": "stdout",
     "output_type": "stream",
     "text": [
      "Epoch 48: \tvalidation acc: 52.008929 \tvalidation loss: 1.439598 \ttrain loss: 0.872834\n"
     ]
    },
    {
     "name": "stderr",
     "output_type": "stream",
     "text": [
      "100%|██████████| 224/224 [00:06<00:00, 35.13it/s]"
     ]
    },
    {
     "name": "stdout",
     "output_type": "stream",
     "text": [
      "Epoch 49: \tvalidation acc: 53.348214 \tvalidation loss: 1.448777 \ttrain loss: 0.865621\n"
     ]
    },
    {
     "name": "stderr",
     "output_type": "stream",
     "text": [
      "\n"
     ]
    },
    {
     "data": {
      "image/png": "[encoded data removed]",
      "text/plain": [
       "<Figure size 640x480 with 1 Axes>"
      ]
     },
     "metadata": {},
     "output_type": "display_data"
    }
   ],
   "source": [
    "bciiv2a_EEGNet, bciiv2a_data = bciiv2a(EEGNet, epochs=49, Reptile=False)"
   ]
  },
  {
   "cell_type": "code",
   "execution_count": 21,
   "metadata": {},
   "outputs": [
    {
     "name": "stdout",
     "output_type": "stream",
     "text": [
      "0-shot accuracy on subject 2: \tmean: 47.743056%\tstd: 12.513255%\n",
      "0-shot accuracy on subject 3: \tmean: 75.173611%\tstd: 12.367888%\n",
      "0-shot accuracy on subject 4: \tmean: 60.243056%\tstd: 12.071904%\n",
      "0-shot accuracy on subject 5: \tmean: 48.958333%\tstd: 9.140588%\n",
      "0-shot accuracy on subject 6: \tmean: 57.638889%\tstd: 11.795339%\n",
      "0-shot accuracy on subject 7: \tmean: 67.187500%\tstd: 10.031958%\n",
      "0-shot accuracy on subject 8: \tmean: 74.652778%\tstd: 10.819748%\n",
      "0-shot accuracy on subject 9: \tmean: 77.430556%\tstd: 9.912571%\n"
     ]
    }
   ],
   "source": [
    "evaluate0(bciiv2a_EEGNet, bciiv2a_data)"
   ]
  },
  {
   "cell_type": "code",
   "execution_count": 22,
   "metadata": {},
   "outputs": [
    {
     "name": "stdout",
     "output_type": "stream",
     "text": [
      "0-shot accuracy: \tmean: 63.541667%\tstd: 11.646187%\n"
     ]
    },
    {
     "name": "stderr",
     "output_type": "stream",
     "text": [
      "100%|██████████| 73/73 [07:38<00:00,  6.28s/it]\n"
     ]
    },
    {
     "name": "stdout",
     "output_type": "stream",
     "text": [
      "1-shot accuracy: \tmean: 60.714286%\tstd: 13.555559%\tafter 125 updates\n"
     ]
    },
    {
     "name": "stderr",
     "output_type": "stream",
     "text": [
      "100%|██████████| 73/73 [10:14<00:00,  8.42s/it]\n"
     ]
    },
    {
     "name": "stdout",
     "output_type": "stream",
     "text": [
      "2-shot accuracy: \tmean: 64.322917%\tstd: 10.746724%\tafter 61 updates\n"
     ]
    },
    {
     "name": "stderr",
     "output_type": "stream",
     "text": [
      "100%|██████████| 73/73 [12:22<00:00, 10.17s/it]\n"
     ]
    },
    {
     "name": "stdout",
     "output_type": "stream",
     "text": [
      "3-shot accuracy: \tmean: 66.875000%\tstd: 9.291293%\tafter 101 updates\n"
     ]
    },
    {
     "name": "stderr",
     "output_type": "stream",
     "text": [
      "100%|██████████| 73/73 [09:51<00:00,  8.11s/it]\n"
     ]
    },
    {
     "name": "stdout",
     "output_type": "stream",
     "text": [
      "4-shot accuracy: \tmean: 68.750000%\tstd: 11.410887%\tafter 77 updates\n"
     ]
    },
    {
     "name": "stderr",
     "output_type": "stream",
     "text": [
      "100%|██████████| 73/73 [11:08<00:00,  9.16s/it]\n"
     ]
    },
    {
     "name": "stdout",
     "output_type": "stream",
     "text": [
      "5-shot accuracy: \tmean: 69.531250%\tstd: 12.278308%\tafter 65 updates\n"
     ]
    },
    {
     "name": "stderr",
     "output_type": "stream",
     "text": [
      "100%|██████████| 73/73 [11:31<00:00,  9.47s/it]\n"
     ]
    },
    {
     "name": "stdout",
     "output_type": "stream",
     "text": [
      "6-shot accuracy: \tmean: 69.196429%\tstd: 8.984202%\tafter 123 updates\n"
     ]
    },
    {
     "name": "stderr",
     "output_type": "stream",
     "text": [
      "100%|██████████| 73/73 [12:31<00:00, 10.30s/it]\n"
     ]
    },
    {
     "name": "stdout",
     "output_type": "stream",
     "text": [
      "7-shot accuracy: \tmean: 70.192308%\tstd: 12.294915%\tafter 65 updates\n"
     ]
    },
    {
     "name": "stderr",
     "output_type": "stream",
     "text": [
      "100%|██████████| 73/73 [13:51<00:00, 11.40s/it]\n"
     ]
    },
    {
     "name": "stdout",
     "output_type": "stream",
     "text": [
      "8-shot accuracy: \tmean: 71.354167%\tstd: 9.702050%\tafter 113 updates\n"
     ]
    },
    {
     "name": "stderr",
     "output_type": "stream",
     "text": [
      "100%|██████████| 73/73 [17:40<00:00, 14.53s/it]\n"
     ]
    },
    {
     "name": "stdout",
     "output_type": "stream",
     "text": [
      "9-shot accuracy: \tmean: 73.863636%\tstd: 9.906589%\tafter 73 updates\n"
     ]
    },
    {
     "name": "stderr",
     "output_type": "stream",
     "text": [
      "100%|██████████| 73/73 [17:22<00:00, 14.28s/it]"
     ]
    },
    {
     "name": "stdout",
     "output_type": "stream",
     "text": [
      "10-shot accuracy: \tmean: 72.500000%\tstd: 10.532687%\tafter 77 updates\n"
     ]
    },
    {
     "name": "stderr",
     "output_type": "stream",
     "text": [
      "\n"
     ]
    }
   ],
   "source": [
    "results_bciiv2a_EEGNet = evaluate(bciiv2a_EEGNet, bciiv2a_data)"
   ]
  },
  {
   "cell_type": "code",
   "execution_count": 23,
   "metadata": {
    "scrolled": true
   },
   "outputs": [
    {
     "name": "stdout",
     "output_type": "stream",
     "text": [
      "episode: 0 \tfinetune acc:21.250000 \t\ttest acc:41.666667\n",
      "episode: 50 \tfinetune acc:41.250000 \t\ttest acc:56.250000\n",
      "episode: 100 \tfinetune acc:46.250000 \t\ttest acc:54.166667\n",
      "episode: 150 \tfinetune acc:50.000000 \t\ttest acc:45.833333\n",
      "episode: 200 \tfinetune acc:51.250000 \t\ttest acc:70.833333\n",
      "episode: 250 \tfinetune acc:42.500000 \t\ttest acc:52.083333\n",
      "episode: 300 \tfinetune acc:53.750000 \t\ttest acc:70.833333\n",
      "episode: 350 \tfinetune acc:42.500000 \t\ttest acc:66.666667\n",
      "episode: 400 \tfinetune acc:48.750000 \t\ttest acc:64.583333\n",
      "episode: 450 \tfinetune acc:60.000000 \t\ttest acc:64.583333\n",
      "episode: 500 \tfinetune acc:56.250000 \t\ttest acc:62.500000\n",
      "episode: 550 \tfinetune acc:60.000000 \t\ttest acc:60.416667\n",
      "episode: 600 \tfinetune acc:48.750000 \t\ttest acc:64.583333\n",
      "episode: 650 \tfinetune acc:55.000000 \t\ttest acc:52.083333\n",
      "episode: 700 \tfinetune acc:35.000000 \t\ttest acc:54.166667\n",
      "episode: 750 \tfinetune acc:60.000000 \t\ttest acc:56.250000\n",
      "episode: 800 \tfinetune acc:55.000000 \t\ttest acc:47.916667\n",
      "episode: 850 \tfinetune acc:65.000000 \t\ttest acc:58.333333\n",
      "episode: 900 \tfinetune acc:61.250000 \t\ttest acc:60.416667\n",
      "episode: 950 \tfinetune acc:68.750000 \t\ttest acc:43.750000\n",
      "episode: 1000 \tfinetune acc:57.500000 \t\ttest acc:62.500000\n",
      "episode: 1050 \tfinetune acc:50.000000 \t\ttest acc:60.416667\n",
      "episode: 1100 \tfinetune acc:61.250000 \t\ttest acc:41.666667\n",
      "episode: 1150 \tfinetune acc:45.000000 \t\ttest acc:66.666667\n",
      "episode: 1200 \tfinetune acc:57.500000 \t\ttest acc:68.750000\n",
      "episode: 1250 \tfinetune acc:57.500000 \t\ttest acc:66.666667\n",
      "episode: 1300 \tfinetune acc:61.250000 \t\ttest acc:60.416667\n",
      "episode: 1350 \tfinetune acc:55.000000 \t\ttest acc:50.000000\n",
      "episode: 1400 \tfinetune acc:65.000000 \t\ttest acc:68.750000\n",
      "episode: 1450 \tfinetune acc:61.250000 \t\ttest acc:66.666667\n",
      "episode: 1500 \tfinetune acc:52.500000 \t\ttest acc:64.583333\n",
      "episode: 1550 \tfinetune acc:53.750000 \t\ttest acc:64.583333\n",
      "episode: 1600 \tfinetune acc:57.500000 \t\ttest acc:72.916667\n",
      "episode: 1650 \tfinetune acc:51.250000 \t\ttest acc:64.583333\n",
      "episode: 1700 \tfinetune acc:66.250000 \t\ttest acc:68.750000\n",
      "episode: 1750 \tfinetune acc:56.250000 \t\ttest acc:58.333333\n",
      "episode: 1800 \tfinetune acc:62.500000 \t\ttest acc:58.333333\n",
      "episode: 1850 \tfinetune acc:61.250000 \t\ttest acc:68.750000\n",
      "episode: 1900 \tfinetune acc:63.750000 \t\ttest acc:54.166667\n",
      "episode: 1950 \tfinetune acc:56.250000 \t\ttest acc:66.666667\n",
      "episode: 2000 \tfinetune acc:70.000000 \t\ttest acc:58.333333\n",
      "episode: 2050 \tfinetune acc:70.000000 \t\ttest acc:68.750000\n",
      "episode: 2100 \tfinetune acc:58.750000 \t\ttest acc:72.916667\n",
      "episode: 2150 \tfinetune acc:46.250000 \t\ttest acc:70.833333\n",
      "episode: 2200 \tfinetune acc:60.000000 \t\ttest acc:62.500000\n",
      "episode: 2250 \tfinetune acc:58.750000 \t\ttest acc:72.916667\n",
      "episode: 2300 \tfinetune acc:60.000000 \t\ttest acc:58.333333\n",
      "episode: 2350 \tfinetune acc:50.000000 \t\ttest acc:58.333333\n",
      "episode: 2400 \tfinetune acc:56.250000 \t\ttest acc:60.416667\n",
      "episode: 2450 \tfinetune acc:52.500000 \t\ttest acc:58.333333\n",
      "episode: 2500 \tfinetune acc:60.000000 \t\ttest acc:72.916667\n",
      "episode: 2550 \tfinetune acc:62.500000 \t\ttest acc:62.500000\n",
      "episode: 2600 \tfinetune acc:66.250000 \t\ttest acc:47.916667\n",
      "episode: 2650 \tfinetune acc:65.000000 \t\ttest acc:60.416667\n",
      "episode: 2700 \tfinetune acc:60.000000 \t\ttest acc:60.416667\n",
      "episode: 2750 \tfinetune acc:63.750000 \t\ttest acc:70.833333\n",
      "episode: 2800 \tfinetune acc:63.750000 \t\ttest acc:66.666667\n",
      "episode: 2850 \tfinetune acc:55.000000 \t\ttest acc:72.916667\n",
      "episode: 2900 \tfinetune acc:70.000000 \t\ttest acc:62.500000\n",
      "episode: 2950 \tfinetune acc:63.750000 \t\ttest acc:60.416667\n",
      "episode: 3000 \tfinetune acc:61.250000 \t\ttest acc:68.750000\n",
      "episode: 3050 \tfinetune acc:61.250000 \t\ttest acc:68.750000\n",
      "episode: 3100 \tfinetune acc:63.750000 \t\ttest acc:72.916667\n",
      "episode: 3150 \tfinetune acc:63.750000 \t\ttest acc:47.916667\n",
      "episode: 3200 \tfinetune acc:71.250000 \t\ttest acc:58.333333\n",
      "episode: 3250 \tfinetune acc:63.750000 \t\ttest acc:68.750000\n",
      "episode: 3300 \tfinetune acc:58.750000 \t\ttest acc:56.250000\n",
      "episode: 3350 \tfinetune acc:58.750000 \t\ttest acc:66.666667\n",
      "episode: 3400 \tfinetune acc:57.500000 \t\ttest acc:58.333333\n",
      "episode: 3450 \tfinetune acc:65.000000 \t\ttest acc:60.416667\n",
      "episode: 3500 \tfinetune acc:56.250000 \t\ttest acc:62.500000\n",
      "episode: 3550 \tfinetune acc:62.500000 \t\ttest acc:58.333333\n",
      "episode: 3600 \tfinetune acc:67.500000 \t\ttest acc:70.833333\n",
      "episode: 3650 \tfinetune acc:53.750000 \t\ttest acc:60.416667\n",
      "episode: 3700 \tfinetune acc:66.250000 \t\ttest acc:72.916667\n",
      "episode: 3750 \tfinetune acc:63.750000 \t\ttest acc:62.500000\n",
      "episode: 3800 \tfinetune acc:68.750000 \t\ttest acc:70.833333\n",
      "episode: 3850 \tfinetune acc:63.750000 \t\ttest acc:52.083333\n",
      "episode: 3900 \tfinetune acc:68.750000 \t\ttest acc:54.166667\n",
      "episode: 3950 \tfinetune acc:51.250000 \t\ttest acc:58.333333\n",
      "episode: 4000 \tfinetune acc:57.500000 \t\ttest acc:66.666667\n",
      "episode: 4050 \tfinetune acc:73.750000 \t\ttest acc:70.833333\n",
      "episode: 4100 \tfinetune acc:66.250000 \t\ttest acc:70.833333\n",
      "episode: 4150 \tfinetune acc:71.250000 \t\ttest acc:54.166667\n",
      "episode: 4200 \tfinetune acc:68.750000 \t\ttest acc:64.583333\n",
      "episode: 4250 \tfinetune acc:62.500000 \t\ttest acc:60.416667\n",
      "episode: 4300 \tfinetune acc:68.750000 \t\ttest acc:56.250000\n",
      "episode: 4350 \tfinetune acc:62.500000 \t\ttest acc:85.416667\n",
      "episode: 4400 \tfinetune acc:70.000000 \t\ttest acc:66.666667\n",
      "episode: 4450 \tfinetune acc:58.750000 \t\ttest acc:60.416667\n",
      "episode: 4500 \tfinetune acc:66.250000 \t\ttest acc:62.500000\n",
      "episode: 4550 \tfinetune acc:52.500000 \t\ttest acc:56.250000\n",
      "episode: 4600 \tfinetune acc:66.250000 \t\ttest acc:68.750000\n",
      "episode: 4650 \tfinetune acc:73.750000 \t\ttest acc:64.583333\n",
      "episode: 4700 \tfinetune acc:58.750000 \t\ttest acc:70.833333\n",
      "episode: 4750 \tfinetune acc:65.000000 \t\ttest acc:58.333333\n",
      "episode: 4800 \tfinetune acc:70.000000 \t\ttest acc:52.083333\n",
      "episode: 4850 \tfinetune acc:77.500000 \t\ttest acc:62.500000\n",
      "episode: 4900 \tfinetune acc:73.750000 \t\ttest acc:79.166667\n",
      "episode: 4950 \tfinetune acc:66.250000 \t\ttest acc:58.333333\n",
      "episode: 5000 \tfinetune acc:76.250000 \t\ttest acc:65.625000\n",
      "episode: 5050 \tfinetune acc:77.500000 \t\ttest acc:67.187500\n",
      "episode: 5100 \tfinetune acc:63.750000 \t\ttest acc:71.875000\n",
      "episode: 5150 \tfinetune acc:58.750000 \t\ttest acc:68.750000\n",
      "episode: 5200 \tfinetune acc:70.000000 \t\ttest acc:65.625000\n",
      "episode: 5250 \tfinetune acc:60.000000 \t\ttest acc:65.625000\n",
      "episode: 5300 \tfinetune acc:60.000000 \t\ttest acc:57.812500\n",
      "episode: 5350 \tfinetune acc:65.000000 \t\ttest acc:71.875000\n",
      "episode: 5400 \tfinetune acc:71.250000 \t\ttest acc:57.812500\n",
      "episode: 5450 \tfinetune acc:70.000000 \t\ttest acc:64.062500\n",
      "episode: 5500 \tfinetune acc:70.000000 \t\ttest acc:64.062500\n",
      "episode: 5550 \tfinetune acc:63.750000 \t\ttest acc:56.250000\n",
      "episode: 5600 \tfinetune acc:61.250000 \t\ttest acc:70.312500\n",
      "episode: 5650 \tfinetune acc:58.750000 \t\ttest acc:60.937500\n",
      "episode: 5700 \tfinetune acc:85.000000 \t\ttest acc:67.187500\n",
      "episode: 5750 \tfinetune acc:58.750000 \t\ttest acc:62.500000\n",
      "episode: 5800 \tfinetune acc:55.000000 \t\ttest acc:70.312500\n",
      "episode: 5850 \tfinetune acc:71.250000 \t\ttest acc:56.250000\n",
      "episode: 5900 \tfinetune acc:67.500000 \t\ttest acc:53.125000\n",
      "episode: 5950 \tfinetune acc:77.500000 \t\ttest acc:57.812500\n",
      "episode: 6000 \tfinetune acc:68.750000 \t\ttest acc:56.250000\n",
      "episode: 6050 \tfinetune acc:46.250000 \t\ttest acc:68.750000\n",
      "episode: 6100 \tfinetune acc:72.500000 \t\ttest acc:68.750000\n",
      "episode: 6150 \tfinetune acc:72.500000 \t\ttest acc:59.375000\n",
      "episode: 6200 \tfinetune acc:71.250000 \t\ttest acc:51.562500\n",
      "episode: 6250 \tfinetune acc:65.000000 \t\ttest acc:62.500000\n",
      "episode: 6300 \tfinetune acc:51.250000 \t\ttest acc:70.312500\n",
      "episode: 6350 \tfinetune acc:68.750000 \t\ttest acc:68.750000\n",
      "episode: 6400 \tfinetune acc:63.750000 \t\ttest acc:62.500000\n",
      "episode: 6450 \tfinetune acc:65.000000 \t\ttest acc:73.437500\n",
      "episode: 6500 \tfinetune acc:53.750000 \t\ttest acc:64.062500\n",
      "episode: 6550 \tfinetune acc:75.000000 \t\ttest acc:57.812500\n",
      "episode: 6600 \tfinetune acc:70.000000 \t\ttest acc:67.187500\n",
      "episode: 6650 \tfinetune acc:62.500000 \t\ttest acc:64.062500\n",
      "episode: 6700 \tfinetune acc:51.250000 \t\ttest acc:70.312500\n",
      "episode: 6750 \tfinetune acc:60.000000 \t\ttest acc:68.750000\n",
      "episode: 6800 \tfinetune acc:63.750000 \t\ttest acc:60.937500\n",
      "episode: 6850 \tfinetune acc:68.750000 \t\ttest acc:57.812500\n",
      "episode: 6900 \tfinetune acc:65.000000 \t\ttest acc:65.625000\n",
      "episode: 6950 \tfinetune acc:65.000000 \t\ttest acc:64.062500\n",
      "episode: 7000 \tfinetune acc:66.250000 \t\ttest acc:75.000000\n",
      "episode: 7050 \tfinetune acc:72.500000 \t\ttest acc:70.312500\n",
      "episode: 7100 \tfinetune acc:61.250000 \t\ttest acc:67.187500\n",
      "episode: 7150 \tfinetune acc:68.750000 \t\ttest acc:70.312500\n",
      "episode: 7200 \tfinetune acc:72.500000 \t\ttest acc:62.500000\n",
      "episode: 7250 \tfinetune acc:80.000000 \t\ttest acc:67.187500\n",
      "episode: 7300 \tfinetune acc:61.250000 \t\ttest acc:57.812500\n",
      "episode: 7350 \tfinetune acc:73.750000 \t\ttest acc:64.062500\n",
      "episode: 7400 \tfinetune acc:62.500000 \t\ttest acc:68.750000\n",
      "episode: 7450 \tfinetune acc:65.000000 \t\ttest acc:65.625000\n",
      "episode: 7500 \tfinetune acc:81.250000 \t\ttest acc:65.625000\n",
      "episode: 7550 \tfinetune acc:70.000000 \t\ttest acc:51.562500\n",
      "episode: 7600 \tfinetune acc:62.500000 \t\ttest acc:64.062500\n",
      "episode: 7650 \tfinetune acc:62.500000 \t\ttest acc:56.250000\n",
      "episode: 7700 \tfinetune acc:71.250000 \t\ttest acc:62.500000\n",
      "episode: 7750 \tfinetune acc:66.250000 \t\ttest acc:65.625000\n",
      "episode: 7800 \tfinetune acc:62.500000 \t\ttest acc:67.187500\n",
      "episode: 7850 \tfinetune acc:65.000000 \t\ttest acc:62.500000\n",
      "episode: 7900 \tfinetune acc:62.500000 \t\ttest acc:57.812500\n",
      "episode: 7950 \tfinetune acc:78.750000 \t\ttest acc:57.812500\n",
      "episode: 8000 \tfinetune acc:70.000000 \t\ttest acc:64.062500\n",
      "episode: 8050 \tfinetune acc:67.500000 \t\ttest acc:64.062500\n",
      "episode: 8100 \tfinetune acc:61.250000 \t\ttest acc:53.125000\n",
      "episode: 8150 \tfinetune acc:57.500000 \t\ttest acc:73.437500\n",
      "episode: 8200 \tfinetune acc:72.500000 \t\ttest acc:64.062500\n",
      "episode: 8250 \tfinetune acc:78.750000 \t\ttest acc:60.937500\n",
      "episode: 8300 \tfinetune acc:73.750000 \t\ttest acc:60.937500\n",
      "episode: 8350 \tfinetune acc:68.750000 \t\ttest acc:59.375000\n",
      "episode: 8400 \tfinetune acc:75.000000 \t\ttest acc:64.062500\n",
      "episode: 8450 \tfinetune acc:68.750000 \t\ttest acc:67.187500\n",
      "episode: 8500 \tfinetune acc:70.000000 \t\ttest acc:59.375000\n",
      "episode: 8550 \tfinetune acc:62.500000 \t\ttest acc:67.187500\n",
      "episode: 8600 \tfinetune acc:56.250000 \t\ttest acc:71.875000\n",
      "episode: 8650 \tfinetune acc:68.750000 \t\ttest acc:67.187500\n",
      "episode: 8700 \tfinetune acc:65.000000 \t\ttest acc:73.437500\n",
      "episode: 8750 \tfinetune acc:63.750000 \t\ttest acc:65.625000\n",
      "episode: 8800 \tfinetune acc:78.750000 \t\ttest acc:65.625000\n",
      "episode: 8850 \tfinetune acc:67.500000 \t\ttest acc:67.187500\n",
      "episode: 8900 \tfinetune acc:73.750000 \t\ttest acc:73.437500\n",
      "episode: 8950 \tfinetune acc:61.250000 \t\ttest acc:71.875000\n",
      "episode: 9000 \tfinetune acc:70.000000 \t\ttest acc:64.062500\n",
      "episode: 9050 \tfinetune acc:65.000000 \t\ttest acc:65.625000\n",
      "episode: 9100 \tfinetune acc:66.250000 \t\ttest acc:60.937500\n",
      "episode: 9150 \tfinetune acc:68.750000 \t\ttest acc:71.875000\n",
      "episode: 9200 \tfinetune acc:68.750000 \t\ttest acc:57.812500\n",
      "episode: 9250 \tfinetune acc:75.000000 \t\ttest acc:68.750000\n",
      "episode: 9300 \tfinetune acc:60.000000 \t\ttest acc:65.625000\n",
      "episode: 9350 \tfinetune acc:78.750000 \t\ttest acc:68.750000\n",
      "episode: 9400 \tfinetune acc:72.500000 \t\ttest acc:56.250000\n",
      "episode: 9450 \tfinetune acc:65.000000 \t\ttest acc:65.625000\n",
      "episode: 9500 \tfinetune acc:77.500000 \t\ttest acc:64.062500\n",
      "episode: 9550 \tfinetune acc:53.750000 \t\ttest acc:70.312500\n",
      "episode: 9600 \tfinetune acc:56.250000 \t\ttest acc:64.062500\n",
      "episode: 9650 \tfinetune acc:66.250000 \t\ttest acc:59.375000\n",
      "episode: 9700 \tfinetune acc:68.750000 \t\ttest acc:65.625000\n",
      "episode: 9750 \tfinetune acc:77.500000 \t\ttest acc:59.375000\n",
      "episode: 9800 \tfinetune acc:65.000000 \t\ttest acc:64.062500\n",
      "episode: 9850 \tfinetune acc:66.250000 \t\ttest acc:62.500000\n",
      "episode: 9900 \tfinetune acc:70.000000 \t\ttest acc:68.750000\n",
      "episode: 9950 \tfinetune acc:67.500000 \t\ttest acc:68.750000\n",
      "episode: 10000 \tfinetune acc:76.250000 \t\ttest acc:65.000000\n",
      "episode: 10050 \tfinetune acc:72.500000 \t\ttest acc:58.750000\n",
      "episode: 10100 \tfinetune acc:66.250000 \t\ttest acc:68.750000\n",
      "episode: 10150 \tfinetune acc:71.250000 \t\ttest acc:76.250000\n",
      "episode: 10200 \tfinetune acc:67.500000 \t\ttest acc:62.500000\n",
      "episode: 10250 \tfinetune acc:58.750000 \t\ttest acc:62.500000\n",
      "episode: 10300 \tfinetune acc:70.000000 \t\ttest acc:55.000000\n",
      "episode: 10350 \tfinetune acc:70.000000 \t\ttest acc:60.000000\n",
      "episode: 10400 \tfinetune acc:63.750000 \t\ttest acc:60.000000\n",
      "episode: 10450 \tfinetune acc:68.750000 \t\ttest acc:66.250000\n",
      "episode: 10500 \tfinetune acc:70.000000 \t\ttest acc:73.750000\n",
      "episode: 10550 \tfinetune acc:66.250000 \t\ttest acc:61.250000\n",
      "episode: 10600 \tfinetune acc:62.500000 \t\ttest acc:66.250000\n",
      "episode: 10650 \tfinetune acc:60.000000 \t\ttest acc:62.500000\n",
      "episode: 10700 \tfinetune acc:75.000000 \t\ttest acc:57.500000\n",
      "episode: 10750 \tfinetune acc:67.500000 \t\ttest acc:67.500000\n",
      "episode: 10800 \tfinetune acc:62.500000 \t\ttest acc:73.750000\n",
      "episode: 10850 \tfinetune acc:70.000000 \t\ttest acc:71.250000\n",
      "episode: 10900 \tfinetune acc:63.750000 \t\ttest acc:57.500000\n",
      "episode: 10950 \tfinetune acc:75.000000 \t\ttest acc:66.250000\n",
      "episode: 11000 \tfinetune acc:57.500000 \t\ttest acc:63.750000\n",
      "episode: 11050 \tfinetune acc:60.000000 \t\ttest acc:65.000000\n",
      "episode: 11100 \tfinetune acc:66.250000 \t\ttest acc:61.250000\n",
      "episode: 11150 \tfinetune acc:68.750000 \t\ttest acc:62.500000\n",
      "episode: 11200 \tfinetune acc:71.250000 \t\ttest acc:65.000000\n",
      "episode: 11250 \tfinetune acc:67.500000 \t\ttest acc:63.750000\n",
      "episode: 11300 \tfinetune acc:71.250000 \t\ttest acc:62.500000\n",
      "episode: 11350 \tfinetune acc:63.750000 \t\ttest acc:58.750000\n",
      "episode: 11400 \tfinetune acc:63.750000 \t\ttest acc:62.500000\n",
      "episode: 11450 \tfinetune acc:65.000000 \t\ttest acc:63.750000\n",
      "episode: 11500 \tfinetune acc:73.750000 \t\ttest acc:63.750000\n",
      "episode: 11550 \tfinetune acc:80.000000 \t\ttest acc:67.500000\n",
      "episode: 11600 \tfinetune acc:65.000000 \t\ttest acc:57.500000\n",
      "episode: 11650 \tfinetune acc:76.250000 \t\ttest acc:68.750000\n",
      "episode: 11700 \tfinetune acc:76.250000 \t\ttest acc:71.250000\n",
      "episode: 11750 \tfinetune acc:77.500000 \t\ttest acc:60.000000\n",
      "episode: 11800 \tfinetune acc:68.750000 \t\ttest acc:65.000000\n",
      "episode: 11850 \tfinetune acc:76.250000 \t\ttest acc:66.250000\n",
      "episode: 11900 \tfinetune acc:70.000000 \t\ttest acc:57.500000\n",
      "episode: 11950 \tfinetune acc:67.500000 \t\ttest acc:67.500000\n",
      "episode: 12000 \tfinetune acc:67.500000 \t\ttest acc:58.750000\n",
      "episode: 12050 \tfinetune acc:67.500000 \t\ttest acc:56.250000\n",
      "episode: 12100 \tfinetune acc:66.250000 \t\ttest acc:65.000000\n",
      "episode: 12150 \tfinetune acc:75.000000 \t\ttest acc:76.250000\n",
      "episode: 12200 \tfinetune acc:63.750000 \t\ttest acc:71.250000\n",
      "episode: 12250 \tfinetune acc:70.000000 \t\ttest acc:60.000000\n",
      "episode: 12300 \tfinetune acc:73.750000 \t\ttest acc:60.000000\n",
      "episode: 12350 \tfinetune acc:71.250000 \t\ttest acc:65.000000\n",
      "episode: 12400 \tfinetune acc:63.750000 \t\ttest acc:58.750000\n",
      "episode: 12450 \tfinetune acc:52.500000 \t\ttest acc:56.250000\n",
      "episode: 12500 \tfinetune acc:71.250000 \t\ttest acc:62.500000\n",
      "episode: 12550 \tfinetune acc:70.000000 \t\ttest acc:71.250000\n",
      "episode: 12600 \tfinetune acc:73.750000 \t\ttest acc:71.250000\n",
      "episode: 12650 \tfinetune acc:62.500000 \t\ttest acc:70.000000\n",
      "episode: 12700 \tfinetune acc:72.500000 \t\ttest acc:67.500000\n",
      "episode: 12750 \tfinetune acc:62.500000 \t\ttest acc:62.500000\n",
      "episode: 12800 \tfinetune acc:65.000000 \t\ttest acc:57.500000\n",
      "episode: 12850 \tfinetune acc:70.000000 \t\ttest acc:62.500000\n",
      "episode: 12900 \tfinetune acc:77.500000 \t\ttest acc:71.250000\n",
      "episode: 12950 \tfinetune acc:81.250000 \t\ttest acc:63.750000\n",
      "episode: 13000 \tfinetune acc:65.000000 \t\ttest acc:61.250000\n",
      "episode: 13050 \tfinetune acc:73.750000 \t\ttest acc:72.500000\n",
      "episode: 13100 \tfinetune acc:76.250000 \t\ttest acc:60.000000\n",
      "episode: 13150 \tfinetune acc:65.000000 \t\ttest acc:58.750000\n",
      "episode: 13200 \tfinetune acc:76.250000 \t\ttest acc:58.750000\n",
      "episode: 13250 \tfinetune acc:80.000000 \t\ttest acc:58.750000\n",
      "episode: 13300 \tfinetune acc:66.250000 \t\ttest acc:61.250000\n",
      "episode: 13350 \tfinetune acc:67.500000 \t\ttest acc:62.500000\n",
      "episode: 13400 \tfinetune acc:73.750000 \t\ttest acc:67.500000\n",
      "episode: 13450 \tfinetune acc:72.500000 \t\ttest acc:66.250000\n",
      "episode: 13500 \tfinetune acc:65.000000 \t\ttest acc:66.250000\n",
      "episode: 13550 \tfinetune acc:77.500000 \t\ttest acc:72.500000\n",
      "episode: 13600 \tfinetune acc:71.250000 \t\ttest acc:63.750000\n",
      "episode: 13650 \tfinetune acc:76.250000 \t\ttest acc:68.750000\n",
      "episode: 13700 \tfinetune acc:68.750000 \t\ttest acc:65.000000\n",
      "episode: 13750 \tfinetune acc:76.250000 \t\ttest acc:67.500000\n",
      "episode: 13800 \tfinetune acc:72.500000 \t\ttest acc:61.250000\n",
      "episode: 13850 \tfinetune acc:62.500000 \t\ttest acc:68.750000\n",
      "episode: 13900 \tfinetune acc:70.000000 \t\ttest acc:70.000000\n",
      "episode: 13950 \tfinetune acc:76.250000 \t\ttest acc:56.250000\n",
      "episode: 14000 \tfinetune acc:65.000000 \t\ttest acc:63.750000\n",
      "episode: 14050 \tfinetune acc:62.500000 \t\ttest acc:58.750000\n",
      "episode: 14100 \tfinetune acc:68.750000 \t\ttest acc:61.250000\n",
      "episode: 14150 \tfinetune acc:80.000000 \t\ttest acc:60.000000\n",
      "episode: 14200 \tfinetune acc:67.500000 \t\ttest acc:71.250000\n",
      "episode: 14250 \tfinetune acc:62.500000 \t\ttest acc:66.250000\n",
      "episode: 14300 \tfinetune acc:52.500000 \t\ttest acc:67.500000\n",
      "episode: 14350 \tfinetune acc:73.750000 \t\ttest acc:58.750000\n",
      "episode: 14400 \tfinetune acc:71.250000 \t\ttest acc:71.250000\n",
      "episode: 14450 \tfinetune acc:76.250000 \t\ttest acc:62.500000\n",
      "episode: 14500 \tfinetune acc:75.000000 \t\ttest acc:65.000000\n",
      "episode: 14550 \tfinetune acc:68.750000 \t\ttest acc:55.000000\n",
      "episode: 14600 \tfinetune acc:65.000000 \t\ttest acc:66.250000\n",
      "episode: 14650 \tfinetune acc:61.250000 \t\ttest acc:56.250000\n",
      "episode: 14700 \tfinetune acc:72.500000 \t\ttest acc:63.750000\n",
      "episode: 14750 \tfinetune acc:70.000000 \t\ttest acc:68.750000\n",
      "episode: 14800 \tfinetune acc:67.500000 \t\ttest acc:61.250000\n",
      "episode: 14850 \tfinetune acc:70.000000 \t\ttest acc:66.250000\n",
      "episode: 14900 \tfinetune acc:77.500000 \t\ttest acc:58.750000\n",
      "episode: 14950 \tfinetune acc:73.750000 \t\ttest acc:66.250000\n",
      "episode: 15000 \tfinetune acc:72.500000 \t\ttest acc:78.125000\n",
      "episode: 15050 \tfinetune acc:61.250000 \t\ttest acc:63.541667\n",
      "episode: 15100 \tfinetune acc:66.250000 \t\ttest acc:68.750000\n",
      "episode: 15150 \tfinetune acc:68.750000 \t\ttest acc:59.375000\n",
      "episode: 15200 \tfinetune acc:66.250000 \t\ttest acc:65.625000\n",
      "episode: 15250 \tfinetune acc:76.250000 \t\ttest acc:71.875000\n",
      "episode: 15300 \tfinetune acc:65.000000 \t\ttest acc:63.541667\n",
      "episode: 15350 \tfinetune acc:78.750000 \t\ttest acc:67.708333\n",
      "episode: 15400 \tfinetune acc:70.000000 \t\ttest acc:71.875000\n",
      "episode: 15450 \tfinetune acc:65.000000 \t\ttest acc:69.791667\n",
      "episode: 15500 \tfinetune acc:58.750000 \t\ttest acc:72.916667\n",
      "episode: 15550 \tfinetune acc:60.000000 \t\ttest acc:66.666667\n",
      "episode: 15600 \tfinetune acc:83.750000 \t\ttest acc:68.750000\n",
      "episode: 15650 \tfinetune acc:68.750000 \t\ttest acc:64.583333\n",
      "episode: 15700 \tfinetune acc:71.250000 \t\ttest acc:63.541667\n",
      "episode: 15750 \tfinetune acc:71.250000 \t\ttest acc:75.000000\n",
      "episode: 15800 \tfinetune acc:62.500000 \t\ttest acc:63.541667\n",
      "episode: 15850 \tfinetune acc:58.750000 \t\ttest acc:64.583333\n",
      "episode: 15900 \tfinetune acc:72.500000 \t\ttest acc:65.625000\n",
      "episode: 15950 \tfinetune acc:82.500000 \t\ttest acc:72.916667\n",
      "episode: 16000 \tfinetune acc:78.750000 \t\ttest acc:63.541667\n",
      "episode: 16050 \tfinetune acc:61.250000 \t\ttest acc:63.541667\n",
      "episode: 16100 \tfinetune acc:72.500000 \t\ttest acc:67.708333\n",
      "episode: 16150 \tfinetune acc:67.500000 \t\ttest acc:69.791667\n",
      "episode: 16200 \tfinetune acc:67.500000 \t\ttest acc:67.708333\n",
      "episode: 16250 \tfinetune acc:62.500000 \t\ttest acc:57.291667\n",
      "episode: 16300 \tfinetune acc:67.500000 \t\ttest acc:59.375000\n",
      "episode: 16350 \tfinetune acc:85.000000 \t\ttest acc:68.750000\n",
      "episode: 16400 \tfinetune acc:68.750000 \t\ttest acc:63.541667\n",
      "episode: 16450 \tfinetune acc:73.750000 \t\ttest acc:62.500000\n",
      "episode: 16500 \tfinetune acc:78.750000 \t\ttest acc:69.791667\n",
      "episode: 16550 \tfinetune acc:82.500000 \t\ttest acc:70.833333\n",
      "episode: 16600 \tfinetune acc:68.750000 \t\ttest acc:64.583333\n",
      "episode: 16650 \tfinetune acc:68.750000 \t\ttest acc:65.625000\n",
      "episode: 16700 \tfinetune acc:76.250000 \t\ttest acc:63.541667\n",
      "episode: 16750 \tfinetune acc:78.750000 \t\ttest acc:63.541667\n",
      "episode: 16800 \tfinetune acc:63.750000 \t\ttest acc:60.416667\n",
      "episode: 16850 \tfinetune acc:77.500000 \t\ttest acc:59.375000\n",
      "episode: 16900 \tfinetune acc:76.250000 \t\ttest acc:67.708333\n",
      "episode: 16950 \tfinetune acc:71.250000 \t\ttest acc:64.583333\n",
      "episode: 17000 \tfinetune acc:66.250000 \t\ttest acc:71.875000\n",
      "episode: 17050 \tfinetune acc:72.500000 \t\ttest acc:64.583333\n",
      "episode: 17100 \tfinetune acc:66.250000 \t\ttest acc:69.791667\n",
      "episode: 17150 \tfinetune acc:67.500000 \t\ttest acc:60.416667\n",
      "episode: 17200 \tfinetune acc:73.750000 \t\ttest acc:58.333333\n",
      "episode: 17250 \tfinetune acc:75.000000 \t\ttest acc:69.791667\n",
      "episode: 17300 \tfinetune acc:70.000000 \t\ttest acc:65.625000\n",
      "episode: 17350 \tfinetune acc:66.250000 \t\ttest acc:62.500000\n",
      "episode: 17400 \tfinetune acc:71.250000 \t\ttest acc:68.750000\n",
      "episode: 17450 \tfinetune acc:65.000000 \t\ttest acc:62.500000\n",
      "episode: 17500 \tfinetune acc:71.250000 \t\ttest acc:64.583333\n",
      "episode: 17550 \tfinetune acc:72.500000 \t\ttest acc:56.250000\n",
      "episode: 17600 \tfinetune acc:73.750000 \t\ttest acc:56.250000\n",
      "episode: 17650 \tfinetune acc:67.500000 \t\ttest acc:65.625000\n",
      "episode: 17700 \tfinetune acc:70.000000 \t\ttest acc:62.500000\n",
      "episode: 17750 \tfinetune acc:72.500000 \t\ttest acc:67.708333\n",
      "episode: 17800 \tfinetune acc:70.000000 \t\ttest acc:58.333333\n",
      "episode: 17850 \tfinetune acc:66.250000 \t\ttest acc:58.333333\n",
      "episode: 17900 \tfinetune acc:73.750000 \t\ttest acc:67.708333\n",
      "episode: 17950 \tfinetune acc:68.750000 \t\ttest acc:58.333333\n",
      "episode: 18000 \tfinetune acc:73.750000 \t\ttest acc:63.541667\n",
      "episode: 18050 \tfinetune acc:70.000000 \t\ttest acc:52.083333\n",
      "episode: 18100 \tfinetune acc:76.250000 \t\ttest acc:66.666667\n",
      "episode: 18150 \tfinetune acc:73.750000 \t\ttest acc:63.541667\n",
      "episode: 18200 \tfinetune acc:61.250000 \t\ttest acc:65.625000\n",
      "episode: 18250 \tfinetune acc:73.750000 \t\ttest acc:65.625000\n",
      "episode: 18300 \tfinetune acc:70.000000 \t\ttest acc:60.416667\n",
      "episode: 18350 \tfinetune acc:76.250000 \t\ttest acc:68.750000\n",
      "episode: 18400 \tfinetune acc:61.250000 \t\ttest acc:65.625000\n",
      "episode: 18450 \tfinetune acc:71.250000 \t\ttest acc:62.500000\n",
      "episode: 18500 \tfinetune acc:75.000000 \t\ttest acc:62.500000\n",
      "episode: 18550 \tfinetune acc:72.500000 \t\ttest acc:69.791667\n",
      "episode: 18600 \tfinetune acc:85.000000 \t\ttest acc:70.833333\n",
      "episode: 18650 \tfinetune acc:66.250000 \t\ttest acc:59.375000\n",
      "episode: 18700 \tfinetune acc:66.250000 \t\ttest acc:70.833333\n",
      "episode: 18750 \tfinetune acc:66.250000 \t\ttest acc:67.708333\n",
      "episode: 18800 \tfinetune acc:66.250000 \t\ttest acc:61.458333\n",
      "episode: 18850 \tfinetune acc:60.000000 \t\ttest acc:64.583333\n",
      "episode: 18900 \tfinetune acc:65.000000 \t\ttest acc:58.333333\n",
      "episode: 18950 \tfinetune acc:70.000000 \t\ttest acc:62.500000\n",
      "episode: 19000 \tfinetune acc:75.000000 \t\ttest acc:70.833333\n",
      "episode: 19050 \tfinetune acc:78.750000 \t\ttest acc:66.666667\n",
      "episode: 19100 \tfinetune acc:82.500000 \t\ttest acc:66.666667\n",
      "episode: 19150 \tfinetune acc:68.750000 \t\ttest acc:64.583333\n",
      "episode: 19200 \tfinetune acc:73.750000 \t\ttest acc:71.875000\n",
      "episode: 19250 \tfinetune acc:70.000000 \t\ttest acc:61.458333\n",
      "episode: 19300 \tfinetune acc:77.500000 \t\ttest acc:66.666667\n",
      "episode: 19350 \tfinetune acc:73.750000 \t\ttest acc:70.833333\n",
      "episode: 19400 \tfinetune acc:61.250000 \t\ttest acc:71.875000\n",
      "episode: 19450 \tfinetune acc:70.000000 \t\ttest acc:62.500000\n",
      "episode: 19500 \tfinetune acc:76.250000 \t\ttest acc:71.875000\n",
      "episode: 19550 \tfinetune acc:70.000000 \t\ttest acc:57.291667\n",
      "episode: 19600 \tfinetune acc:70.000000 \t\ttest acc:68.750000\n",
      "episode: 19650 \tfinetune acc:68.750000 \t\ttest acc:70.833333\n",
      "episode: 19700 \tfinetune acc:70.000000 \t\ttest acc:62.500000\n",
      "episode: 19750 \tfinetune acc:72.500000 \t\ttest acc:70.833333\n",
      "episode: 19800 \tfinetune acc:67.500000 \t\ttest acc:59.375000\n",
      "episode: 19850 \tfinetune acc:73.750000 \t\ttest acc:64.583333\n",
      "episode: 19900 \tfinetune acc:75.000000 \t\ttest acc:63.541667\n",
      "episode: 19950 \tfinetune acc:67.500000 \t\ttest acc:58.333333\n"
     ]
    }
   ],
   "source": [
    "bciiv2a_EEGNet_Reptile, bciiv2a_data = bciiv2a(EEGNet, iterations=20000, Reptile=True)"
   ]
  },
  {
   "cell_type": "code",
   "execution_count": 24,
   "metadata": {},
   "outputs": [
    {
     "name": "stdout",
     "output_type": "stream",
     "text": [
      "0-shot accuracy on subject 2: \tmean: 52.604167%\tstd: 11.060813%\n",
      "0-shot accuracy on subject 3: \tmean: 84.201389%\tstd: 9.138939%\n",
      "0-shot accuracy on subject 4: \tmean: 67.361111%\tstd: 11.977909%\n",
      "0-shot accuracy on subject 5: \tmean: 59.548611%\tstd: 12.279842%\n",
      "0-shot accuracy on subject 6: \tmean: 59.375000%\tstd: 10.468620%\n",
      "0-shot accuracy on subject 7: \tmean: 80.034722%\tstd: 10.292958%\n",
      "0-shot accuracy on subject 8: \tmean: 80.034722%\tstd: 9.178430%\n",
      "0-shot accuracy on subject 9: \tmean: 78.993056%\tstd: 9.788650%\n"
     ]
    }
   ],
   "source": [
    "evaluate0(bciiv2a_EEGNet_Reptile, bciiv2a_data)"
   ]
  },
  {
   "cell_type": "code",
   "execution_count": 25,
   "metadata": {},
   "outputs": [
    {
     "name": "stdout",
     "output_type": "stream",
     "text": [
      "0-shot accuracy: \tmean: 70.833333%\tstd: 13.339842%\n"
     ]
    },
    {
     "name": "stderr",
     "output_type": "stream",
     "text": [
      "100%|██████████| 73/73 [07:09<00:00,  5.89s/it]\n"
     ]
    },
    {
     "name": "stdout",
     "output_type": "stream",
     "text": [
      "1-shot accuracy: \tmean: 64.955357%\tstd: 12.758410%\tafter 7 updates\n"
     ]
    },
    {
     "name": "stderr",
     "output_type": "stream",
     "text": [
      "100%|██████████| 73/73 [11:03<00:00,  9.08s/it]\n"
     ]
    },
    {
     "name": "stdout",
     "output_type": "stream",
     "text": [
      "2-shot accuracy: \tmean: 66.145833%\tstd: 11.956500%\tafter 59 updates\n"
     ]
    },
    {
     "name": "stderr",
     "output_type": "stream",
     "text": [
      "100%|██████████| 73/73 [12:03<00:00,  9.91s/it]\n"
     ]
    },
    {
     "name": "stdout",
     "output_type": "stream",
     "text": [
      "3-shot accuracy: \tmean: 69.062500%\tstd: 9.777805%\tafter 7 updates\n"
     ]
    },
    {
     "name": "stderr",
     "output_type": "stream",
     "text": [
      "100%|██████████| 73/73 [10:13<00:00,  8.41s/it]\n"
     ]
    },
    {
     "name": "stdout",
     "output_type": "stream",
     "text": [
      "4-shot accuracy: \tmean: 70.486111%\tstd: 9.034453%\tafter 35 updates\n"
     ]
    },
    {
     "name": "stderr",
     "output_type": "stream",
     "text": [
      "100%|██████████| 73/73 [10:51<00:00,  8.93s/it]\n"
     ]
    },
    {
     "name": "stdout",
     "output_type": "stream",
     "text": [
      "5-shot accuracy: \tmean: 71.093750%\tstd: 11.240230%\tafter 133 updates\n"
     ]
    },
    {
     "name": "stderr",
     "output_type": "stream",
     "text": [
      "100%|██████████| 73/73 [11:26<00:00,  9.40s/it]\n"
     ]
    },
    {
     "name": "stdout",
     "output_type": "stream",
     "text": [
      "6-shot accuracy: \tmean: 73.214286%\tstd: 6.438484%\tafter 147 updates\n"
     ]
    },
    {
     "name": "stderr",
     "output_type": "stream",
     "text": [
      "100%|██████████| 73/73 [12:51<00:00, 10.57s/it]\n"
     ]
    },
    {
     "name": "stdout",
     "output_type": "stream",
     "text": [
      "7-shot accuracy: \tmean: 74.519231%\tstd: 11.618313%\tafter 143 updates\n"
     ]
    },
    {
     "name": "stderr",
     "output_type": "stream",
     "text": [
      "100%|██████████| 73/73 [14:11<00:00, 11.66s/it]\n"
     ]
    },
    {
     "name": "stdout",
     "output_type": "stream",
     "text": [
      "8-shot accuracy: \tmean: 73.958333%\tstd: 9.140588%\tafter 71 updates\n"
     ]
    },
    {
     "name": "stderr",
     "output_type": "stream",
     "text": [
      "100%|██████████| 73/73 [17:30<00:00, 14.39s/it]\n"
     ]
    },
    {
     "name": "stdout",
     "output_type": "stream",
     "text": [
      "9-shot accuracy: \tmean: 75.000000%\tstd: 13.588933%\tafter 47 updates\n"
     ]
    },
    {
     "name": "stderr",
     "output_type": "stream",
     "text": [
      "100%|██████████| 73/73 [17:39<00:00, 14.51s/it]"
     ]
    },
    {
     "name": "stdout",
     "output_type": "stream",
     "text": [
      "10-shot accuracy: \tmean: 76.250000%\tstd: 9.185587%\tafter 137 updates\n"
     ]
    },
    {
     "name": "stderr",
     "output_type": "stream",
     "text": [
      "\n"
     ]
    }
   ],
   "source": [
    "results_bciiv2a_EEGNet_Reptile = evaluate(bciiv2a_EEGNet_Reptile, bciiv2a_data)"
   ]
  }
 ],
 "metadata": {
  "kernelspec": {
   "display_name": "Python 3 (ipykernel)",
   "language": "python",
   "name": "python3"
  },
  "language_info": {
   "codemirror_mode": {
    "name": "ipython",
    "version": 3
   },
   "file_extension": ".py",
   "mimetype": "text/x-python",
   "name": "python",
   "nbconvert_exporter": "python",
   "pygments_lexer": "ipython3",
   "version": "3.8.10"
  }
 },
 "nbformat": 4,
 "nbformat_minor": 1
}
